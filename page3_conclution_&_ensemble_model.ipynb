{
  "cells": [
    {
      "cell_type": "markdown",
      "source": [
        "# 사전작업"
      ],
      "metadata": {
        "id": "-NhI6Mrdqoi1"
      },
      "id": "-NhI6Mrdqoi1"
    },
    {
      "cell_type": "code",
      "execution_count": null,
      "id": "e71bdc8f",
      "metadata": {
        "id": "e71bdc8f"
      },
      "outputs": [],
      "source": [
        "from tensorflow.keras import datasets, layers, models\n",
        "from tensorflow.keras.models import Sequential\n",
        "from tensorflow.keras.layers import Conv2D, AvgPool2D, Flatten,Dense, Dropout,MaxPooling2D\n",
        "import tensorflow as tf\n",
        "\n",
        "import numpy as np\n",
        "import matplotlib.pyplot as plt"
      ]
    },
    {
      "cell_type": "code",
      "execution_count": null,
      "id": "4836682d",
      "metadata": {
        "id": "4836682d"
      },
      "outputs": [],
      "source": [
        "import os"
      ]
    },
    {
      "cell_type": "code",
      "execution_count": null,
      "id": "1e97bd55",
      "metadata": {
        "id": "1e97bd55"
      },
      "outputs": [],
      "source": [
        "# 데이터셋 불러오기\n",
        "(train_images, train_labels), (test_images, test_labels) = datasets.mnist.load_data()\n",
        "train_images = train_images.reshape((60000, 28, 28, 1))\n",
        "test_images = test_images.reshape((10000, 28, 28, 1))\n",
        "\n",
        "# 데이터 정규화\n",
        "train_images, test_images = train_images / 255.0, test_images / 255.0"
      ]
    },
    {
      "cell_type": "code",
      "execution_count": null,
      "id": "fe5d54db",
      "metadata": {
        "id": "fe5d54db"
      },
      "outputs": [],
      "source": [
        "import os"
      ]
    },
    {
      "cell_type": "markdown",
      "source": [
        "# relu+adam+dropout+batch normalization, batch size=96, Epoch 조정"
      ],
      "metadata": {
        "id": "GVYXOrFjsST8"
      },
      "id": "GVYXOrFjsST8"
    },
    {
      "cell_type": "code",
      "execution_count": null,
      "id": "35341123",
      "metadata": {
        "id": "35341123"
      },
      "outputs": [],
      "source": [
        "checkpoint_path = 'C:/Users/user/Desktop/cpkt/cp--{epoch:04d}.ckpt'\n",
        "checkpoint_dir = os.path.dirname(checkpoint_path)"
      ]
    },
    {
      "cell_type": "code",
      "execution_count": null,
      "id": "ef2a3514",
      "metadata": {
        "id": "ef2a3514"
      },
      "outputs": [],
      "source": [
        "cp_callback = tf.keras.callbacks.ModelCheckpoint(checkpoint_path,\n",
        "                                                 save_weights_only=True,\n",
        "                                                 verbose=0,\n",
        "                                                 save_freq='epoch',\n",
        "                                                 )  "
      ]
    },
    {
      "cell_type": "code",
      "execution_count": null,
      "id": "7261aecb",
      "metadata": {
        "id": "7261aecb",
        "outputId": "62cca992-ac61-4658-fdf2-29ee57668674"
      },
      "outputs": [
        {
          "name": "stdout",
          "output_type": "stream",
          "text": [
            "Epoch 1/100\n",
            "500/500 [==============================] - 6s 10ms/step - loss: 0.2133 - accuracy: 0.9375 - val_loss: 0.0648 - val_accuracy: 0.9808\n",
            "Epoch 2/100\n",
            "500/500 [==============================] - 4s 9ms/step - loss: 0.0792 - accuracy: 0.9745 - val_loss: 0.0483 - val_accuracy: 0.9852\n",
            "Epoch 3/100\n",
            "500/500 [==============================] - 4s 9ms/step - loss: 0.0638 - accuracy: 0.9804 - val_loss: 0.0397 - val_accuracy: 0.9873\n",
            "Epoch 4/100\n",
            "500/500 [==============================] - 4s 9ms/step - loss: 0.0536 - accuracy: 0.9828 - val_loss: 0.0348 - val_accuracy: 0.9898\n",
            "Epoch 5/100\n",
            "500/500 [==============================] - 4s 9ms/step - loss: 0.0478 - accuracy: 0.9843 - val_loss: 0.0315 - val_accuracy: 0.9903\n",
            "Epoch 6/100\n",
            "500/500 [==============================] - 4s 9ms/step - loss: 0.0416 - accuracy: 0.9871 - val_loss: 0.0327 - val_accuracy: 0.9903\n",
            "Epoch 7/100\n",
            "500/500 [==============================] - 4s 7ms/step - loss: 0.0399 - accuracy: 0.9875 - val_loss: 0.0395 - val_accuracy: 0.9883\n",
            "Epoch 8/100\n",
            "500/500 [==============================] - 4s 9ms/step - loss: 0.0394 - accuracy: 0.9876 - val_loss: 0.0312 - val_accuracy: 0.9917\n",
            "Epoch 9/100\n",
            "500/500 [==============================] - 4s 9ms/step - loss: 0.0356 - accuracy: 0.9888 - val_loss: 0.0261 - val_accuracy: 0.9928\n",
            "Epoch 10/100\n",
            "500/500 [==============================] - 4s 8ms/step - loss: 0.0330 - accuracy: 0.9891 - val_loss: 0.0299 - val_accuracy: 0.9913\n",
            "Epoch 11/100\n",
            "500/500 [==============================] - 4s 8ms/step - loss: 0.0315 - accuracy: 0.9895 - val_loss: 0.0272 - val_accuracy: 0.9925\n",
            "Epoch 12/100\n",
            "500/500 [==============================] - 4s 8ms/step - loss: 0.0300 - accuracy: 0.9904 - val_loss: 0.0272 - val_accuracy: 0.9915\n",
            "Epoch 13/100\n",
            "500/500 [==============================] - 4s 8ms/step - loss: 0.0280 - accuracy: 0.9908 - val_loss: 0.0301 - val_accuracy: 0.9918\n",
            "Epoch 14/100\n",
            "500/500 [==============================] - 4s 8ms/step - loss: 0.0266 - accuracy: 0.9909 - val_loss: 0.0267 - val_accuracy: 0.9928\n",
            "Epoch 15/100\n",
            "500/500 [==============================] - 4s 8ms/step - loss: 0.0259 - accuracy: 0.9914 - val_loss: 0.0262 - val_accuracy: 0.9923\n",
            "Epoch 16/100\n",
            "500/500 [==============================] - 4s 8ms/step - loss: 0.0263 - accuracy: 0.9915 - val_loss: 0.0267 - val_accuracy: 0.9927\n",
            "Epoch 17/100\n",
            "500/500 [==============================] - 4s 8ms/step - loss: 0.0253 - accuracy: 0.9918 - val_loss: 0.0287 - val_accuracy: 0.9920\n",
            "Epoch 18/100\n",
            "500/500 [==============================] - 4s 9ms/step - loss: 0.0231 - accuracy: 0.9927 - val_loss: 0.0266 - val_accuracy: 0.9927\n",
            "Epoch 19/100\n",
            "500/500 [==============================] - 4s 9ms/step - loss: 0.0218 - accuracy: 0.9924 - val_loss: 0.0252 - val_accuracy: 0.9933\n",
            "Epoch 20/100\n",
            "500/500 [==============================] - 4s 9ms/step - loss: 0.0209 - accuracy: 0.9935 - val_loss: 0.0245 - val_accuracy: 0.9937\n",
            "Epoch 21/100\n",
            "500/500 [==============================] - 4s 8ms/step - loss: 0.0215 - accuracy: 0.9931 - val_loss: 0.0238 - val_accuracy: 0.9935\n",
            "Epoch 22/100\n",
            "500/500 [==============================] - 4s 8ms/step - loss: 0.0209 - accuracy: 0.9931 - val_loss: 0.0255 - val_accuracy: 0.9927\n",
            "Epoch 23/100\n",
            "500/500 [==============================] - 4s 8ms/step - loss: 0.0195 - accuracy: 0.9936 - val_loss: 0.0281 - val_accuracy: 0.9922\n",
            "Epoch 24/100\n",
            "500/500 [==============================] - 4s 8ms/step - loss: 0.0186 - accuracy: 0.9939 - val_loss: 0.0289 - val_accuracy: 0.9918\n",
            "Epoch 25/100\n",
            "500/500 [==============================] - 4s 8ms/step - loss: 0.0193 - accuracy: 0.9932 - val_loss: 0.0289 - val_accuracy: 0.9922\n",
            "Epoch 26/100\n",
            "500/500 [==============================] - 4s 8ms/step - loss: 0.0197 - accuracy: 0.9937 - val_loss: 0.0236 - val_accuracy: 0.9927\n",
            "Epoch 27/100\n",
            "500/500 [==============================] - 4s 8ms/step - loss: 0.0185 - accuracy: 0.9939 - val_loss: 0.0320 - val_accuracy: 0.9913\n",
            "Epoch 28/100\n",
            "500/500 [==============================] - 4s 8ms/step - loss: 0.0160 - accuracy: 0.9945 - val_loss: 0.0233 - val_accuracy: 0.9937\n",
            "Epoch 29/100\n",
            "500/500 [==============================] - 4s 9ms/step - loss: 0.0168 - accuracy: 0.9945 - val_loss: 0.0274 - val_accuracy: 0.9928\n",
            "Epoch 30/100\n",
            "500/500 [==============================] - 4s 8ms/step - loss: 0.0158 - accuracy: 0.9948 - val_loss: 0.0271 - val_accuracy: 0.9926\n",
            "Epoch 31/100\n",
            "500/500 [==============================] - 4s 8ms/step - loss: 0.0167 - accuracy: 0.9945 - val_loss: 0.0266 - val_accuracy: 0.9928\n",
            "Epoch 32/100\n",
            "500/500 [==============================] - 4s 9ms/step - loss: 0.0153 - accuracy: 0.9949 - val_loss: 0.0221 - val_accuracy: 0.9940\n",
            "Epoch 33/100\n",
            "500/500 [==============================] - 4s 9ms/step - loss: 0.0165 - accuracy: 0.9945 - val_loss: 0.0244 - val_accuracy: 0.9937\n",
            "Epoch 34/100\n",
            "500/500 [==============================] - 5s 9ms/step - loss: 0.0156 - accuracy: 0.9948 - val_loss: 0.0257 - val_accuracy: 0.9931\n",
            "Epoch 35/100\n",
            "500/500 [==============================] - 4s 8ms/step - loss: 0.0152 - accuracy: 0.9950 - val_loss: 0.0241 - val_accuracy: 0.9934\n",
            "Epoch 36/100\n",
            "500/500 [==============================] - 4s 8ms/step - loss: 0.0162 - accuracy: 0.9947 - val_loss: 0.0265 - val_accuracy: 0.9925\n",
            "Epoch 37/100\n",
            "500/500 [==============================] - 4s 8ms/step - loss: 0.0136 - accuracy: 0.9956 - val_loss: 0.0258 - val_accuracy: 0.9931\n",
            "Epoch 38/100\n",
            "500/500 [==============================] - 4s 8ms/step - loss: 0.0168 - accuracy: 0.9945 - val_loss: 0.0304 - val_accuracy: 0.9920\n",
            "Epoch 39/100\n",
            "500/500 [==============================] - 4s 9ms/step - loss: 0.0137 - accuracy: 0.9951 - val_loss: 0.0299 - val_accuracy: 0.9927\n",
            "Epoch 40/100\n",
            "500/500 [==============================] - 4s 9ms/step - loss: 0.0157 - accuracy: 0.9946 - val_loss: 0.0250 - val_accuracy: 0.9933\n",
            "Epoch 41/100\n",
            "500/500 [==============================] - 4s 9ms/step - loss: 0.0134 - accuracy: 0.9954 - val_loss: 0.0280 - val_accuracy: 0.9926\n",
            "Epoch 42/100\n",
            "500/500 [==============================] - 4s 8ms/step - loss: 0.0128 - accuracy: 0.9957 - val_loss: 0.0262 - val_accuracy: 0.9927\n",
            "Epoch 43/100\n",
            "500/500 [==============================] - 4s 9ms/step - loss: 0.0129 - accuracy: 0.9957 - val_loss: 0.0250 - val_accuracy: 0.9930\n",
            "Epoch 44/100\n",
            "500/500 [==============================] - 4s 9ms/step - loss: 0.0128 - accuracy: 0.9958 - val_loss: 0.0264 - val_accuracy: 0.9926\n",
            "Epoch 45/100\n",
            "500/500 [==============================] - 4s 8ms/step - loss: 0.0115 - accuracy: 0.9964 - val_loss: 0.0295 - val_accuracy: 0.9923\n",
            "Epoch 46/100\n",
            "500/500 [==============================] - 4s 8ms/step - loss: 0.0132 - accuracy: 0.9954 - val_loss: 0.0292 - val_accuracy: 0.9925\n",
            "Epoch 47/100\n",
            "500/500 [==============================] - 4s 8ms/step - loss: 0.0128 - accuracy: 0.9958 - val_loss: 0.0337 - val_accuracy: 0.9918\n",
            "Epoch 48/100\n",
            "500/500 [==============================] - 4s 9ms/step - loss: 0.0133 - accuracy: 0.9952 - val_loss: 0.0329 - val_accuracy: 0.9923\n",
            "Epoch 49/100\n",
            "500/500 [==============================] - 4s 8ms/step - loss: 0.0110 - accuracy: 0.9960 - val_loss: 0.0298 - val_accuracy: 0.9926\n",
            "Epoch 50/100\n",
            "500/500 [==============================] - 5s 9ms/step - loss: 0.0123 - accuracy: 0.9960 - val_loss: 0.0294 - val_accuracy: 0.9936\n",
            "Epoch 51/100\n",
            "500/500 [==============================] - 5s 9ms/step - loss: 0.0133 - accuracy: 0.9956 - val_loss: 0.0342 - val_accuracy: 0.9921\n",
            "Epoch 52/100\n",
            "500/500 [==============================] - 4s 9ms/step - loss: 0.0111 - accuracy: 0.9962 - val_loss: 0.0322 - val_accuracy: 0.9923\n",
            "Epoch 53/100\n",
            "500/500 [==============================] - 4s 8ms/step - loss: 0.0125 - accuracy: 0.9958 - val_loss: 0.0303 - val_accuracy: 0.9923\n",
            "Epoch 54/100\n",
            "500/500 [==============================] - 4s 8ms/step - loss: 0.0121 - accuracy: 0.9960 - val_loss: 0.0283 - val_accuracy: 0.9932\n",
            "Epoch 55/100\n",
            "500/500 [==============================] - 4s 8ms/step - loss: 0.0100 - accuracy: 0.9964 - val_loss: 0.0318 - val_accuracy: 0.9928\n",
            "Epoch 56/100\n",
            "500/500 [==============================] - 4s 8ms/step - loss: 0.0120 - accuracy: 0.9960 - val_loss: 0.0271 - val_accuracy: 0.9933\n",
            "Epoch 57/100\n",
            "500/500 [==============================] - 4s 9ms/step - loss: 0.0127 - accuracy: 0.9956 - val_loss: 0.0271 - val_accuracy: 0.9933\n"
          ]
        },
        {
          "name": "stdout",
          "output_type": "stream",
          "text": [
            "Epoch 58/100\n",
            "500/500 [==============================] - 5s 9ms/step - loss: 0.0100 - accuracy: 0.9966 - val_loss: 0.0339 - val_accuracy: 0.9923\n",
            "Epoch 59/100\n",
            "500/500 [==============================] - 4s 9ms/step - loss: 0.0113 - accuracy: 0.9959 - val_loss: 0.0317 - val_accuracy: 0.9927\n",
            "Epoch 60/100\n",
            "500/500 [==============================] - 4s 9ms/step - loss: 0.0116 - accuracy: 0.9962 - val_loss: 0.0297 - val_accuracy: 0.9933\n",
            "Epoch 61/100\n",
            "500/500 [==============================] - 4s 9ms/step - loss: 0.0109 - accuracy: 0.9961 - val_loss: 0.0319 - val_accuracy: 0.9927\n",
            "Epoch 62/100\n",
            "500/500 [==============================] - 4s 9ms/step - loss: 0.0104 - accuracy: 0.9965 - val_loss: 0.0309 - val_accuracy: 0.9935\n",
            "Epoch 63/100\n",
            "500/500 [==============================] - 4s 9ms/step - loss: 0.0106 - accuracy: 0.9964 - val_loss: 0.0324 - val_accuracy: 0.9926\n",
            "Epoch 64/100\n",
            "500/500 [==============================] - 4s 9ms/step - loss: 0.0101 - accuracy: 0.9964 - val_loss: 0.0300 - val_accuracy: 0.9930\n",
            "Epoch 65/100\n",
            "500/500 [==============================] - 4s 8ms/step - loss: 0.0109 - accuracy: 0.9965 - val_loss: 0.0299 - val_accuracy: 0.9932\n",
            "Epoch 66/100\n",
            "500/500 [==============================] - 4s 9ms/step - loss: 0.0094 - accuracy: 0.9965 - val_loss: 0.0292 - val_accuracy: 0.9930\n",
            "Epoch 67/100\n",
            "500/500 [==============================] - 4s 9ms/step - loss: 0.0093 - accuracy: 0.9969 - val_loss: 0.0312 - val_accuracy: 0.9932\n",
            "Epoch 68/100\n",
            "500/500 [==============================] - 4s 9ms/step - loss: 0.0088 - accuracy: 0.9969 - val_loss: 0.0291 - val_accuracy: 0.9929\n",
            "Epoch 69/100\n",
            "500/500 [==============================] - 4s 9ms/step - loss: 0.0104 - accuracy: 0.9965 - val_loss: 0.0320 - val_accuracy: 0.9931\n",
            "Epoch 70/100\n",
            "500/500 [==============================] - 4s 9ms/step - loss: 0.0103 - accuracy: 0.9962 - val_loss: 0.0291 - val_accuracy: 0.9931\n",
            "Epoch 71/100\n",
            "500/500 [==============================] - 4s 9ms/step - loss: 0.0093 - accuracy: 0.9967 - val_loss: 0.0329 - val_accuracy: 0.9930\n",
            "Epoch 72/100\n",
            "500/500 [==============================] - 4s 9ms/step - loss: 0.0089 - accuracy: 0.9969 - val_loss: 0.0297 - val_accuracy: 0.9931\n",
            "Epoch 73/100\n",
            "500/500 [==============================] - 5s 9ms/step - loss: 0.0095 - accuracy: 0.9966 - val_loss: 0.0331 - val_accuracy: 0.9930\n",
            "Epoch 74/100\n",
            "500/500 [==============================] - 4s 9ms/step - loss: 0.0110 - accuracy: 0.9960 - val_loss: 0.0307 - val_accuracy: 0.9935\n",
            "Epoch 75/100\n",
            "500/500 [==============================] - 5s 9ms/step - loss: 0.0096 - accuracy: 0.9967 - val_loss: 0.0278 - val_accuracy: 0.9937\n",
            "Epoch 76/100\n",
            "500/500 [==============================] - 4s 9ms/step - loss: 0.0091 - accuracy: 0.9972 - val_loss: 0.0323 - val_accuracy: 0.9931\n",
            "Epoch 77/100\n",
            "500/500 [==============================] - 4s 9ms/step - loss: 0.0086 - accuracy: 0.9969 - val_loss: 0.0299 - val_accuracy: 0.9931\n",
            "Epoch 78/100\n",
            "500/500 [==============================] - 4s 9ms/step - loss: 0.0083 - accuracy: 0.9971 - val_loss: 0.0321 - val_accuracy: 0.9928\n",
            "Epoch 79/100\n",
            "500/500 [==============================] - 4s 9ms/step - loss: 0.0080 - accuracy: 0.9972 - val_loss: 0.0304 - val_accuracy: 0.9933\n",
            "Epoch 80/100\n",
            "500/500 [==============================] - 4s 9ms/step - loss: 0.0097 - accuracy: 0.9966 - val_loss: 0.0323 - val_accuracy: 0.9933\n",
            "Epoch 81/100\n",
            "500/500 [==============================] - 4s 9ms/step - loss: 0.0100 - accuracy: 0.9969 - val_loss: 0.0282 - val_accuracy: 0.9931\n",
            "Epoch 82/100\n",
            "500/500 [==============================] - 4s 9ms/step - loss: 0.0099 - accuracy: 0.9963 - val_loss: 0.0315 - val_accuracy: 0.9927\n",
            "Epoch 83/100\n",
            "500/500 [==============================] - 4s 9ms/step - loss: 0.0098 - accuracy: 0.9967 - val_loss: 0.0287 - val_accuracy: 0.9933\n",
            "Epoch 84/100\n",
            "500/500 [==============================] - 4s 9ms/step - loss: 0.0091 - accuracy: 0.9972 - val_loss: 0.0322 - val_accuracy: 0.9927\n",
            "Epoch 85/100\n",
            "500/500 [==============================] - 4s 9ms/step - loss: 0.0097 - accuracy: 0.9969 - val_loss: 0.0292 - val_accuracy: 0.9936\n",
            "Epoch 86/100\n",
            "500/500 [==============================] - 4s 9ms/step - loss: 0.0072 - accuracy: 0.9977 - val_loss: 0.0285 - val_accuracy: 0.9935\n",
            "Epoch 87/100\n",
            "500/500 [==============================] - 4s 9ms/step - loss: 0.0090 - accuracy: 0.9967 - val_loss: 0.0273 - val_accuracy: 0.9940\n",
            "Epoch 88/100\n",
            "500/500 [==============================] - 4s 9ms/step - loss: 0.0070 - accuracy: 0.9978 - val_loss: 0.0262 - val_accuracy: 0.9935\n",
            "Epoch 89/100\n",
            "500/500 [==============================] - 4s 9ms/step - loss: 0.0092 - accuracy: 0.9967 - val_loss: 0.0299 - val_accuracy: 0.9933\n",
            "Epoch 90/100\n",
            "500/500 [==============================] - 4s 9ms/step - loss: 0.0091 - accuracy: 0.9969 - val_loss: 0.0287 - val_accuracy: 0.9936\n",
            "Epoch 91/100\n",
            "500/500 [==============================] - 4s 8ms/step - loss: 0.0075 - accuracy: 0.9973 - val_loss: 0.0344 - val_accuracy: 0.9930\n",
            "Epoch 92/100\n",
            "500/500 [==============================] - 4s 9ms/step - loss: 0.0084 - accuracy: 0.9972 - val_loss: 0.0337 - val_accuracy: 0.9927\n",
            "Epoch 93/100\n",
            "500/500 [==============================] - 4s 9ms/step - loss: 0.0096 - accuracy: 0.9970 - val_loss: 0.0307 - val_accuracy: 0.9932\n",
            "Epoch 94/100\n",
            "500/500 [==============================] - 4s 9ms/step - loss: 0.0076 - accuracy: 0.9972 - val_loss: 0.0320 - val_accuracy: 0.9935\n",
            "Epoch 95/100\n",
            "500/500 [==============================] - 4s 9ms/step - loss: 0.0070 - accuracy: 0.9975 - val_loss: 0.0332 - val_accuracy: 0.9927\n",
            "Epoch 96/100\n",
            "500/500 [==============================] - 4s 9ms/step - loss: 0.0082 - accuracy: 0.9971 - val_loss: 0.0296 - val_accuracy: 0.9935\n",
            "Epoch 97/100\n",
            "500/500 [==============================] - 4s 9ms/step - loss: 0.0091 - accuracy: 0.9967 - val_loss: 0.0310 - val_accuracy: 0.9929\n",
            "Epoch 98/100\n",
            "500/500 [==============================] - 4s 8ms/step - loss: 0.0076 - accuracy: 0.9972 - val_loss: 0.0309 - val_accuracy: 0.9932\n",
            "Epoch 99/100\n",
            "500/500 [==============================] - 4s 8ms/step - loss: 0.0078 - accuracy: 0.9973 - val_loss: 0.0316 - val_accuracy: 0.9927\n",
            "Epoch 100/100\n",
            "500/500 [==============================] - 4s 9ms/step - loss: 0.0084 - accuracy: 0.9970 - val_loss: 0.0298 - val_accuracy: 0.9932\n"
          ]
        }
      ],
      "source": [
        "model_lenet5 = Sequential([\n",
        "    Conv2D(6, (5, 5), input_shape=(28, 28, 1), padding=\"same\",name=\"C1\"),\n",
        "    layers.BatchNormalization(),\n",
        "    layers.Activation('relu'),\n",
        "    Dropout(0.2),\n",
        "    AvgPool2D(2, 2, name=\"S2\"), \n",
        "    Conv2D(16, (5, 5),name=\"C3\"),\n",
        "    layers.BatchNormalization(),\n",
        "    layers.Activation('relu'),\n",
        "    Dropout(0.2),\n",
        "    AvgPool2D(2, 2, name=\"S4\"), \n",
        "    Conv2D(120, (5, 5),name=\"C5\"), \n",
        "    layers.BatchNormalization(),\n",
        "    layers.Activation('relu'),\n",
        "    Dropout(0.2),\n",
        "    Flatten(name=\"Flatten\"), \n",
        "    Dense(84, activation='relu',name=\"F6\"), \n",
        "    Dense(10, activation='softmax',name=\"output\")\n",
        "],name=\"LeNet-5\")\n",
        "\n",
        "model_lenet5.compile(optimizer='adam', \n",
        "                     loss='sparse_categorical_crossentropy', metrics=['accuracy'],\n",
        "                    )\n",
        "base_hist = model_lenet5.fit(train_images, train_labels, epochs=100,\n",
        "                             validation_split=0.2,batch_size=96, callbacks=[cp_callback])"
      ]
    },
    {
      "cell_type": "code",
      "execution_count": null,
      "id": "c6ece5be",
      "metadata": {
        "id": "c6ece5be"
      },
      "outputs": [],
      "source": [
        "history_dict=base_hist.history"
      ]
    },
    {
      "cell_type": "code",
      "execution_count": null,
      "id": "e3c8c69e",
      "metadata": {
        "id": "e3c8c69e",
        "outputId": "ef38d954-81a8-4f81-bc17-3488e0a30950"
      },
      "outputs": [
        {
          "data": {
            "image/png": "[encoded data removed]",
            "text/plain": [
              "<Figure size 432x288 with 1 Axes>"
            ]
          },
          "metadata": {
            "needs_background": "light"
          },
          "output_type": "display_data"
        }
      ],
      "source": [
        "acc = history_dict['accuracy']\n",
        "val_acc = history_dict['val_accuracy']\n",
        "loss = history_dict['loss']\n",
        "val_loss = history_dict['val_loss']\n",
        "\n",
        "epochs = range(1, len(acc) + 1)\n",
        "\n",
        "\n",
        "plt.plot(epochs, loss, 'b', label='Training loss')\n",
        "\n",
        "plt.plot(epochs, val_loss, 'r', label='Validation loss')\n",
        "plt.title('Training and validation loss')\n",
        "plt.xlabel('Epochs')\n",
        "plt.ylabel('Loss')\n",
        "plt.legend()\n",
        "\n",
        "plt.show()"
      ]
    },
    {
      "cell_type": "code",
      "execution_count": null,
      "id": "d3636235",
      "metadata": {
        "id": "d3636235",
        "outputId": "b6ba2c3a-c5bd-425f-f03b-30a606b1abd7"
      },
      "outputs": [
        {
          "data": {
            "image/png": "[encoded data removed]",
            "text/plain": [
              "<Figure size 432x288 with 1 Axes>"
            ]
          },
          "metadata": {
            "needs_background": "light"
          },
          "output_type": "display_data"
        }
      ],
      "source": [
        "plt.clf()\n",
        "plt.plot(epochs, acc, 'b', label='Training acc')\n",
        "plt.plot(epochs, val_acc, 'r', label='Validation acc')\n",
        "plt.title('Training and validation accuracy')\n",
        "plt.xlabel('Epochs')\n",
        "plt.ylabel('Accuracy')\n",
        "plt.legend()\n",
        "\n",
        "plt.show()"
      ]
    },
    {
      "cell_type": "code",
      "execution_count": null,
      "id": "e4857b86",
      "metadata": {
        "id": "e4857b86",
        "outputId": "5ed072c0-0355-4772-df59-7d13da743923"
      },
      "outputs": [
        {
          "name": "stdout",
          "output_type": "stream",
          "text": [
            "313/313 - 1s - loss: 0.0627 - accuracy: 0.9789 - 1s/epoch - 4ms/step\n",
            "313/313 - 1s - loss: 0.0378 - accuracy: 0.9869 - 1s/epoch - 4ms/step\n",
            "313/313 - 1s - loss: 0.0307 - accuracy: 0.9897 - 1s/epoch - 4ms/step\n",
            "313/313 - 1s - loss: 0.0263 - accuracy: 0.9912 - 1s/epoch - 4ms/step\n",
            "313/313 - 1s - loss: 0.0270 - accuracy: 0.9912 - 1s/epoch - 4ms/step\n",
            "313/313 - 1s - loss: 0.0251 - accuracy: 0.9910 - 1s/epoch - 4ms/step\n",
            "313/313 - 1s - loss: 0.0373 - accuracy: 0.9873 - 1s/epoch - 4ms/step\n",
            "313/313 - 1s - loss: 0.0236 - accuracy: 0.9908 - 1s/epoch - 4ms/step\n",
            "313/313 - 1s - loss: 0.0212 - accuracy: 0.9929 - 1s/epoch - 4ms/step\n",
            "313/313 - 1s - loss: 0.0209 - accuracy: 0.9935 - 1s/epoch - 4ms/step\n",
            "313/313 - 1s - loss: 0.0218 - accuracy: 0.9932 - 1s/epoch - 4ms/step\n",
            "313/313 - 1s - loss: 0.0238 - accuracy: 0.9911 - 1s/epoch - 4ms/step\n",
            "313/313 - 1s - loss: 0.0232 - accuracy: 0.9925 - 1s/epoch - 4ms/step\n",
            "313/313 - 1s - loss: 0.0246 - accuracy: 0.9921 - 1s/epoch - 4ms/step\n",
            "313/313 - 1s - loss: 0.0209 - accuracy: 0.9929 - 1s/epoch - 4ms/step\n",
            "313/313 - 1s - loss: 0.0235 - accuracy: 0.9923 - 1s/epoch - 4ms/step\n",
            "313/313 - 1s - loss: 0.0215 - accuracy: 0.9933 - 1s/epoch - 4ms/step\n",
            "313/313 - 1s - loss: 0.0200 - accuracy: 0.9931 - 1s/epoch - 4ms/step\n",
            "313/313 - 1s - loss: 0.0238 - accuracy: 0.9930 - 1s/epoch - 4ms/step\n",
            "313/313 - 1s - loss: 0.0264 - accuracy: 0.9914 - 1s/epoch - 3ms/step\n",
            "313/313 - 1s - loss: 0.0212 - accuracy: 0.9930 - 888ms/epoch - 3ms/step\n",
            "313/313 - 1s - loss: 0.0220 - accuracy: 0.9929 - 1s/epoch - 3ms/step\n",
            "313/313 - 1s - loss: 0.0227 - accuracy: 0.9933 - 1s/epoch - 3ms/step\n",
            "313/313 - 1s - loss: 0.0243 - accuracy: 0.9917 - 1s/epoch - 3ms/step\n",
            "313/313 - 1s - loss: 0.0252 - accuracy: 0.9921 - 1s/epoch - 3ms/step\n",
            "313/313 - 1s - loss: 0.0205 - accuracy: 0.9934 - 1s/epoch - 4ms/step\n",
            "313/313 - 1s - loss: 0.0228 - accuracy: 0.9933 - 1s/epoch - 3ms/step\n",
            "313/313 - 1s - loss: 0.0190 - accuracy: 0.9932 - 1s/epoch - 3ms/step\n",
            "313/313 - 1s - loss: 0.0199 - accuracy: 0.9938 - 1s/epoch - 3ms/step\n",
            "313/313 - 1s - loss: 0.0209 - accuracy: 0.9932 - 1s/epoch - 3ms/step\n",
            "313/313 - 1s - loss: 0.0241 - accuracy: 0.9928 - 1s/epoch - 4ms/step\n",
            "313/313 - 1s - loss: 0.0209 - accuracy: 0.9933 - 1s/epoch - 3ms/step\n",
            "313/313 - 1s - loss: 0.0203 - accuracy: 0.9938 - 1s/epoch - 3ms/step\n",
            "313/313 - 1s - loss: 0.0188 - accuracy: 0.9937 - 1s/epoch - 3ms/step\n",
            "313/313 - 1s - loss: 0.0215 - accuracy: 0.9930 - 1s/epoch - 4ms/step\n",
            "313/313 - 1s - loss: 0.0185 - accuracy: 0.9938 - 1s/epoch - 4ms/step\n",
            "313/313 - 1s - loss: 0.0203 - accuracy: 0.9927 - 1s/epoch - 4ms/step\n",
            "313/313 - 1s - loss: 0.0293 - accuracy: 0.9911 - 1s/epoch - 4ms/step\n",
            "313/313 - 1s - loss: 0.0239 - accuracy: 0.9923 - 1s/epoch - 4ms/step\n",
            "313/313 - 1s - loss: 0.0231 - accuracy: 0.9922 - 1s/epoch - 4ms/step\n",
            "313/313 - 1s - loss: 0.0240 - accuracy: 0.9927 - 1s/epoch - 4ms/step\n",
            "313/313 - 1s - loss: 0.0222 - accuracy: 0.9923 - 1s/epoch - 4ms/step\n",
            "313/313 - 1s - loss: 0.0205 - accuracy: 0.9925 - 1s/epoch - 4ms/step\n",
            "313/313 - 1s - loss: 0.0212 - accuracy: 0.9929 - 1s/epoch - 4ms/step\n",
            "313/313 - 1s - loss: 0.0213 - accuracy: 0.9932 - 1s/epoch - 3ms/step\n",
            "313/313 - 1s - loss: 0.0202 - accuracy: 0.9934 - 1s/epoch - 4ms/step\n",
            "313/313 - 1s - loss: 0.0249 - accuracy: 0.9928 - 1s/epoch - 4ms/step\n",
            "313/313 - 1s - loss: 0.0231 - accuracy: 0.9925 - 1s/epoch - 4ms/step\n",
            "313/313 - 1s - loss: 0.0223 - accuracy: 0.9931 - 1s/epoch - 4ms/step\n",
            "313/313 - 1s - loss: 0.0255 - accuracy: 0.9928 - 1s/epoch - 4ms/step\n",
            "313/313 - 1s - loss: 0.0276 - accuracy: 0.9925 - 1s/epoch - 4ms/step\n",
            "313/313 - 1s - loss: 0.0222 - accuracy: 0.9936 - 1s/epoch - 4ms/step\n",
            "313/313 - 1s - loss: 0.0207 - accuracy: 0.9930 - 1s/epoch - 4ms/step\n",
            "313/313 - 1s - loss: 0.0188 - accuracy: 0.9932 - 1s/epoch - 4ms/step\n",
            "313/313 - 1s - loss: 0.0252 - accuracy: 0.9935 - 1s/epoch - 3ms/step\n",
            "313/313 - 1s - loss: 0.0233 - accuracy: 0.9928 - 1s/epoch - 4ms/step\n",
            "313/313 - 1s - loss: 0.0198 - accuracy: 0.9948 - 1s/epoch - 4ms/step\n",
            "313/313 - 1s - loss: 0.0249 - accuracy: 0.9931 - 1s/epoch - 4ms/step\n",
            "313/313 - 1s - loss: 0.0225 - accuracy: 0.9935 - 1s/epoch - 4ms/step\n",
            "313/313 - 1s - loss: 0.0244 - accuracy: 0.9926 - 1s/epoch - 4ms/step\n",
            "313/313 - 1s - loss: 0.0230 - accuracy: 0.9924 - 1s/epoch - 4ms/step\n",
            "313/313 - 1s - loss: 0.0240 - accuracy: 0.9935 - 1s/epoch - 4ms/step\n",
            "313/313 - 1s - loss: 0.0214 - accuracy: 0.9933 - 1s/epoch - 4ms/step\n",
            "313/313 - 1s - loss: 0.0202 - accuracy: 0.9938 - 1s/epoch - 3ms/step\n",
            "313/313 - 1s - loss: 0.0244 - accuracy: 0.9923 - 956ms/epoch - 3ms/step\n",
            "313/313 - 1s - loss: 0.0199 - accuracy: 0.9942 - 1s/epoch - 3ms/step\n",
            "313/313 - 1s - loss: 0.0180 - accuracy: 0.9940 - 828ms/epoch - 3ms/step\n",
            "313/313 - 1s - loss: 0.0187 - accuracy: 0.9943 - 960ms/epoch - 3ms/step\n",
            "313/313 - 1s - loss: 0.0222 - accuracy: 0.9935 - 1s/epoch - 4ms/step\n",
            "313/313 - 1s - loss: 0.0190 - accuracy: 0.9943 - 1s/epoch - 3ms/step\n",
            "313/313 - 1s - loss: 0.0237 - accuracy: 0.9938 - 1s/epoch - 3ms/step\n",
            "313/313 - 1s - loss: 0.0216 - accuracy: 0.9940 - 1s/epoch - 3ms/step\n",
            "313/313 - 1s - loss: 0.0236 - accuracy: 0.9942 - 899ms/epoch - 3ms/step\n",
            "313/313 - 1s - loss: 0.0219 - accuracy: 0.9943 - 883ms/epoch - 3ms/step\n",
            "313/313 - 1s - loss: 0.0191 - accuracy: 0.9935 - 836ms/epoch - 3ms/step\n",
            "313/313 - 1s - loss: 0.0227 - accuracy: 0.9935 - 824ms/epoch - 3ms/step\n",
            "313/313 - 1s - loss: 0.0213 - accuracy: 0.9934 - 983ms/epoch - 3ms/step\n",
            "313/313 - 1s - loss: 0.0245 - accuracy: 0.9929 - 957ms/epoch - 3ms/step\n",
            "313/313 - 1s - loss: 0.0218 - accuracy: 0.9937 - 1s/epoch - 3ms/step\n",
            "313/313 - 1s - loss: 0.0268 - accuracy: 0.9932 - 1s/epoch - 3ms/step\n",
            "313/313 - 1s - loss: 0.0221 - accuracy: 0.9943 - 1s/epoch - 3ms/step\n",
            "313/313 - 1s - loss: 0.0232 - accuracy: 0.9929 - 1s/epoch - 3ms/step\n",
            "313/313 - 1s - loss: 0.0211 - accuracy: 0.9933 - 1s/epoch - 4ms/step\n",
            "313/313 - 1s - loss: 0.0232 - accuracy: 0.9936 - 1s/epoch - 3ms/step\n",
            "313/313 - 1s - loss: 0.0212 - accuracy: 0.9943 - 1s/epoch - 3ms/step\n",
            "313/313 - 1s - loss: 0.0212 - accuracy: 0.9936 - 983ms/epoch - 3ms/step\n",
            "313/313 - 1s - loss: 0.0226 - accuracy: 0.9928 - 1s/epoch - 3ms/step\n",
            "313/313 - 1s - loss: 0.0221 - accuracy: 0.9943 - 1s/epoch - 3ms/step\n",
            "313/313 - 1s - loss: 0.0247 - accuracy: 0.9935 - 1s/epoch - 4ms/step\n",
            "313/313 - 1s - loss: 0.0223 - accuracy: 0.9935 - 996ms/epoch - 3ms/step\n",
            "313/313 - 1s - loss: 0.0216 - accuracy: 0.9938 - 1s/epoch - 3ms/step\n",
            "313/313 - 1s - loss: 0.0259 - accuracy: 0.9934 - 1s/epoch - 4ms/step\n",
            "313/313 - 1s - loss: 0.0209 - accuracy: 0.9945 - 1s/epoch - 4ms/step\n",
            "313/313 - 1s - loss: 0.0221 - accuracy: 0.9941 - 1s/epoch - 4ms/step\n",
            "313/313 - 1s - loss: 0.0213 - accuracy: 0.9939 - 1s/epoch - 4ms/step\n",
            "313/313 - 1s - loss: 0.0206 - accuracy: 0.9941 - 1s/epoch - 4ms/step\n",
            "313/313 - 1s - loss: 0.0232 - accuracy: 0.9934 - 1s/epoch - 3ms/step\n",
            "313/313 - 1s - loss: 0.0215 - accuracy: 0.9939 - 1s/epoch - 4ms/step\n",
            "313/313 - 1s - loss: 0.0227 - accuracy: 0.9939 - 1s/epoch - 4ms/step\n"
          ]
        },
        {
          "ename": "NotFoundError",
          "evalue": "Unsuccessful TensorSliceReader constructor: Failed to find any matching files for C:/Users/user/Desktop/cpkt/cp--00100.ckpt",
          "output_type": "error",
          "traceback": [
            "\u001b[1;31m---------------------------------------------------------------------------\u001b[0m",
            "\u001b[1;31mNotFoundError\u001b[0m                             Traceback (most recent call last)",
            "Input \u001b[1;32mIn [120]\u001b[0m, in \u001b[0;36m<cell line: 1>\u001b[1;34m()\u001b[0m\n\u001b[0;32m      3\u001b[0m     model_lenet5\u001b[38;5;241m.\u001b[39mload_weights(\u001b[38;5;124m'\u001b[39m\u001b[38;5;124mC:/Users/user/Desktop/cpkt/cp--000\u001b[39m\u001b[38;5;124m'\u001b[39m\u001b[38;5;241m+\u001b[39m\u001b[38;5;28mstr\u001b[39m(i\u001b[38;5;241m+\u001b[39m\u001b[38;5;241m1\u001b[39m)\u001b[38;5;241m+\u001b[39m\u001b[38;5;124m'\u001b[39m\u001b[38;5;124m.ckpt\u001b[39m\u001b[38;5;124m'\u001b[39m)\n\u001b[0;32m      4\u001b[0m \u001b[38;5;28;01melse\u001b[39;00m:\n\u001b[1;32m----> 5\u001b[0m     \u001b[43mmodel_lenet5\u001b[49m\u001b[38;5;241;43m.\u001b[39;49m\u001b[43mload_weights\u001b[49m\u001b[43m(\u001b[49m\u001b[38;5;124;43m'\u001b[39;49m\u001b[38;5;124;43mC:/Users/user/Desktop/cpkt/cp--00\u001b[39;49m\u001b[38;5;124;43m'\u001b[39;49m\u001b[38;5;241;43m+\u001b[39;49m\u001b[38;5;28;43mstr\u001b[39;49m\u001b[43m(\u001b[49m\u001b[43mi\u001b[49m\u001b[38;5;241;43m+\u001b[39;49m\u001b[38;5;241;43m1\u001b[39;49m\u001b[43m)\u001b[49m\u001b[38;5;241;43m+\u001b[39;49m\u001b[38;5;124;43m'\u001b[39;49m\u001b[38;5;124;43m.ckpt\u001b[39;49m\u001b[38;5;124;43m'\u001b[39;49m\u001b[43m)\u001b[49m\n\u001b[0;32m      6\u001b[0m test_loss_temp, test_acc_temp \u001b[38;5;241m=\u001b[39m model_lenet5\u001b[38;5;241m.\u001b[39mevaluate(test_images,  test_labels, verbose\u001b[38;5;241m=\u001b[39m\u001b[38;5;241m2\u001b[39m)\n\u001b[0;32m      8\u001b[0m test_loss\u001b[38;5;241m+\u001b[39m\u001b[38;5;241m=\u001b[39m[test_loss_temp] \n",
            "File \u001b[1;32m~\\anaconda3\\lib\\site-packages\\keras\\utils\\traceback_utils.py:70\u001b[0m, in \u001b[0;36mfilter_traceback.<locals>.error_handler\u001b[1;34m(*args, **kwargs)\u001b[0m\n\u001b[0;32m     67\u001b[0m     filtered_tb \u001b[38;5;241m=\u001b[39m _process_traceback_frames(e\u001b[38;5;241m.\u001b[39m__traceback__)\n\u001b[0;32m     68\u001b[0m     \u001b[38;5;66;03m# To get the full stack trace, call:\u001b[39;00m\n\u001b[0;32m     69\u001b[0m     \u001b[38;5;66;03m# `tf.debugging.disable_traceback_filtering()`\u001b[39;00m\n\u001b[1;32m---> 70\u001b[0m     \u001b[38;5;28;01mraise\u001b[39;00m e\u001b[38;5;241m.\u001b[39mwith_traceback(filtered_tb) \u001b[38;5;28;01mfrom\u001b[39;00m \u001b[38;5;28mNone\u001b[39m\n\u001b[0;32m     71\u001b[0m \u001b[38;5;28;01mfinally\u001b[39;00m:\n\u001b[0;32m     72\u001b[0m     \u001b[38;5;28;01mdel\u001b[39;00m filtered_tb\n",
            "File \u001b[1;32m~\\anaconda3\\lib\\site-packages\\tensorflow\\python\\training\\py_checkpoint_reader.py:31\u001b[0m, in \u001b[0;36merror_translator\u001b[1;34m(e)\u001b[0m\n\u001b[0;32m     27\u001b[0m error_message \u001b[38;5;241m=\u001b[39m \u001b[38;5;28mstr\u001b[39m(e)\n\u001b[0;32m     28\u001b[0m \u001b[38;5;28;01mif\u001b[39;00m \u001b[38;5;124m'\u001b[39m\u001b[38;5;124mnot found in checkpoint\u001b[39m\u001b[38;5;124m'\u001b[39m \u001b[38;5;129;01min\u001b[39;00m error_message \u001b[38;5;129;01mor\u001b[39;00m (\n\u001b[0;32m     29\u001b[0m     \u001b[38;5;124m'\u001b[39m\u001b[38;5;124mFailed to find any \u001b[39m\u001b[38;5;124m'\u001b[39m\n\u001b[0;32m     30\u001b[0m     \u001b[38;5;124m'\u001b[39m\u001b[38;5;124mmatching files for\u001b[39m\u001b[38;5;124m'\u001b[39m) \u001b[38;5;129;01min\u001b[39;00m error_message:\n\u001b[1;32m---> 31\u001b[0m   \u001b[38;5;28;01mraise\u001b[39;00m errors_impl\u001b[38;5;241m.\u001b[39mNotFoundError(\u001b[38;5;28;01mNone\u001b[39;00m, \u001b[38;5;28;01mNone\u001b[39;00m, error_message)\n\u001b[0;32m     32\u001b[0m \u001b[38;5;28;01melif\u001b[39;00m \u001b[38;5;124m'\u001b[39m\u001b[38;5;124mSliced checkpoints are not supported\u001b[39m\u001b[38;5;124m'\u001b[39m \u001b[38;5;129;01min\u001b[39;00m error_message \u001b[38;5;129;01mor\u001b[39;00m (\n\u001b[0;32m     33\u001b[0m     \u001b[38;5;124m'\u001b[39m\u001b[38;5;124mData type \u001b[39m\u001b[38;5;124m'\u001b[39m\n\u001b[0;32m     34\u001b[0m     \u001b[38;5;124m'\u001b[39m\u001b[38;5;124mnot \u001b[39m\u001b[38;5;124m'\u001b[39m\n\u001b[0;32m     35\u001b[0m     \u001b[38;5;124m'\u001b[39m\u001b[38;5;124msupported\u001b[39m\u001b[38;5;124m'\u001b[39m) \u001b[38;5;129;01min\u001b[39;00m error_message:\n\u001b[0;32m     36\u001b[0m   \u001b[38;5;28;01mraise\u001b[39;00m errors_impl\u001b[38;5;241m.\u001b[39mUnimplementedError(\u001b[38;5;28;01mNone\u001b[39;00m, \u001b[38;5;28;01mNone\u001b[39;00m, error_message)\n",
            "\u001b[1;31mNotFoundError\u001b[0m: Unsuccessful TensorSliceReader constructor: Failed to find any matching files for C:/Users/user/Desktop/cpkt/cp--00100.ckpt"
          ]
        }
      ],
      "source": [
        "for i in range(100):\n",
        "    if i<9:\n",
        "        model_lenet5.load_weights('C:/Users/user/Desktop/cpkt/cp--000'+str(i+1)+'.ckpt')\n",
        "    elif:\n",
        "        model_lenet5.load_weights('C:/Users/user/Desktop/cpkt/cp--00'+str(i+1)+'.ckpt')\n",
        "    else:\n",
        "        model_lenet5.load_weights('C:/Users/user/Desktop/cpkt/cp--0'+str(i+1)+'.ckpt')\n",
        "    test_loss_temp, test_acc_temp = model_lenet5.evaluate(test_images,  test_labels, verbose=2)\n",
        "    \n",
        "    test_loss+=[test_loss_temp] \n",
        "    test_acc += [test_acc_temp]"
      ]
    },
    {
      "cell_type": "code",
      "execution_count": null,
      "id": "d14ecd4e",
      "metadata": {
        "id": "d14ecd4e",
        "outputId": "ea12cc2a-3d0f-40b6-f31e-5f7c302fa096"
      },
      "outputs": [
        {
          "name": "stdout",
          "output_type": "stream",
          "text": [
            "313/313 - 1s - loss: 0.0191 - accuracy: 0.9943 - 1s/epoch - 4ms/step\n"
          ]
        }
      ],
      "source": [
        "    model_lenet5.load_weights('C:/Users/user/Desktop/cpkt/cp--0100.ckpt')\n",
        "    test_loss_temp, test_acc_temp = model_lenet5.evaluate(test_images,  test_labels, verbose=2)\n",
        "    \n",
        "    test_loss+=[test_loss_temp] \n",
        "    test_acc += [test_acc_temp]"
      ]
    },
    {
      "cell_type": "code",
      "execution_count": null,
      "id": "44c5267b",
      "metadata": {
        "id": "44c5267b",
        "outputId": "9db9ed2f-a658-4978-fb13-5cc81e6d5a2f"
      },
      "outputs": [
        {
          "name": "stdout",
          "output_type": "stream",
          "text": [
            "acc\n",
            "57\n",
            "loss\n",
            "67\n"
          ]
        },
        {
          "ename": "IndexError",
          "evalue": "list index out of range",
          "output_type": "error",
          "traceback": [
            "\u001b[1;31m---------------------------------------------------------------------------\u001b[0m",
            "\u001b[1;31mIndexError\u001b[0m                                Traceback (most recent call last)",
            "Input \u001b[1;32mIn [122]\u001b[0m, in \u001b[0;36m<cell line: 1>\u001b[1;34m()\u001b[0m\n\u001b[0;32m      1\u001b[0m \u001b[38;5;28;01mfor\u001b[39;00m i \u001b[38;5;129;01min\u001b[39;00m \u001b[38;5;28mrange\u001b[39m(\u001b[38;5;241m100\u001b[39m):\n\u001b[0;32m      4\u001b[0m     lossmin\u001b[38;5;241m=\u001b[39m\u001b[38;5;28mround\u001b[39m(\u001b[38;5;28mmin\u001b[39m(test_loss),\u001b[38;5;241m4\u001b[39m)\n\u001b[1;32m----> 6\u001b[0m     \u001b[38;5;28;01mif\u001b[39;00m (lossmin\u001b[38;5;241m==\u001b[39m\u001b[38;5;28mround\u001b[39m(\u001b[43mtest_loss\u001b[49m\u001b[43m[\u001b[49m\u001b[43mi\u001b[49m\u001b[43m]\u001b[49m,\u001b[38;5;241m4\u001b[39m)):\n\u001b[0;32m      7\u001b[0m         \u001b[38;5;28mprint\u001b[39m(\u001b[38;5;124m\"\u001b[39m\u001b[38;5;124mloss\u001b[39m\u001b[38;5;124m\"\u001b[39m)\n\u001b[0;32m      8\u001b[0m         \u001b[38;5;28mprint\u001b[39m(i\u001b[38;5;241m+\u001b[39m\u001b[38;5;241m1\u001b[39m)\n",
            "\u001b[1;31mIndexError\u001b[0m: list index out of range"
          ]
        }
      ],
      "source": [
        "for i in range(100):\n",
        "\n",
        "        \n",
        "    lossmin=round(min(test_loss),4)\n",
        "    \n",
        "    if (lossmin==round(test_loss[i],4)):\n",
        "        print(\"loss\")\n",
        "        print(i+1)\n",
        "        \n",
        "    accmax=round(max(test_acc),4)\n",
        "        \n",
        "    if (accmax==round(test_acc[i],4)):\n",
        "        print(\"acc\")\n",
        "        print(i+1)"
      ]
    },
    {
      "cell_type": "code",
      "execution_count": null,
      "id": "3c8e488b",
      "metadata": {
        "id": "3c8e488b",
        "outputId": "9987f6a2-2ef3-46b7-a2ad-beab79892841"
      },
      "outputs": [
        {
          "name": "stdout",
          "output_type": "stream",
          "text": [
            "313/313 - 1s - loss: 0.0209 - accuracy: 0.9933 - 1s/epoch - 3ms/step\n",
            "313/313 - 1s - loss: 0.0198 - accuracy: 0.9948 - 1s/epoch - 4ms/step\n",
            "313/313 - 1s - loss: 0.0180 - accuracy: 0.9940 - 1s/epoch - 4ms/step\n"
          ]
        }
      ],
      "source": [
        "for i in [32,57,67]:\n",
        "\n",
        "    model_lenet5.load_weights('C:/Users/user/Desktop/cpkt/cp--00'+str(i)+'.ckpt')\n",
        "   \n",
        "    test_loss_temp, test_acc_temp = model_lenet5.evaluate(test_images,  test_labels, verbose=2)\n",
        "    \n"
      ]
    },
    {
      "cell_type": "code",
      "execution_count": null,
      "id": "f5c80d52",
      "metadata": {
        "id": "f5c80d52",
        "outputId": "aaef0846-23b6-45ea-e51b-0070205dd056"
      },
      "outputs": [
        {
          "data": {
            "image/png": "[encoded data removed]",
            "text/plain": [
              "<Figure size 432x288 with 1 Axes>"
            ]
          },
          "metadata": {
            "needs_background": "light"
          },
          "output_type": "display_data"
        },
        {
          "data": {
            "image/png": "[encoded data removed]",
            "text/plain": [
              "<Figure size 432x288 with 1 Axes>"
            ]
          },
          "metadata": {
            "needs_background": "light"
          },
          "output_type": "display_data"
        }
      ],
      "source": [
        "acc = history_dict['accuracy']\n",
        "loss = history_dict['loss']\n",
        "\n",
        "epochs = range(1, len(acc) + 1)\n",
        "\n",
        "\n",
        "plt.plot(epochs, loss, 'b', label='Training loss')\n",
        "\n",
        "plt.plot(epochs, test_loss, 'r', label='Test loss')\n",
        "plt.title('Training and Test loss')\n",
        "plt.xlabel('Epochs')\n",
        "plt.ylabel('Loss')\n",
        "plt.legend()\n",
        "\n",
        "plt.show()\n",
        "\n",
        "plt.clf()\n",
        "plt.plot(epochs, acc, 'b', label='Training acc')\n",
        "plt.plot(epochs, test_acc, 'r', label='Test acc')\n",
        "plt.title('Training and Test accuracy')\n",
        "plt.xlabel('Epochs')\n",
        "plt.ylabel('Accuracy')\n",
        "plt.legend()\n",
        "\n",
        "plt.show()"
      ]
    },
    {
      "cell_type": "markdown",
      "source": [
        " * Epoch 100회까지 시행 시 67회에서 최적의 가중치를 가진다\n",
        "\n"
      ],
      "metadata": {
        "id": "9D7N8aRnukcw"
      },
      "id": "9D7N8aRnukcw"
    },
    {
      "cell_type": "markdown",
      "source": [
        "# 번외- 앙상블모델"
      ],
      "metadata": {
        "id": "QSdoW3JfvEZ2"
      },
      "id": "QSdoW3JfvEZ2"
    },
    {
      "cell_type": "markdown",
      "source": [
        "* 번외로 최적의 test loss를 갖는 Epoch 57회의 가중치와 최적의 test accuracy를 갖는 Epoch 67회의 가중치 모델을 평균내서 적용하는 앙상블 모델을 구현하였다.\n",
        "* 마지막 출력층에 대한 Epoch=30 정도의 훈련으로도 개선된 결과를 얻을 수 있었다.\n"
      ],
      "metadata": {
        "id": "WzXzAxY-vPyw"
      },
      "id": "WzXzAxY-vPyw"
    },
    {
      "cell_type": "code",
      "execution_count": null,
      "id": "7b05e740",
      "metadata": {
        "id": "7b05e740",
        "outputId": "5c8508c2-6d5d-41c2-903f-9ffee1fcf0ab"
      },
      "outputs": [
        {
          "name": "stdout",
          "output_type": "stream",
          "text": [
            "WARNING:tensorflow:Detecting that an object or model or tf.train.Checkpoint is being deleted with unrestored values. See the following logs for the specific values in question. To silence these warnings, use `status.expect_partial()`. See https://www.tensorflow.org/api_docs/python/tf/train/Checkpoint#restorefor details about the status object returned by the restore function.\n",
            "WARNING:tensorflow:Value in checkpoint could not be found in the restored object: (root).optimizer.iter\n",
            "WARNING:tensorflow:Value in checkpoint could not be found in the restored object: (root).optimizer.beta_1\n",
            "WARNING:tensorflow:Value in checkpoint could not be found in the restored object: (root).optimizer.beta_2\n",
            "WARNING:tensorflow:Value in checkpoint could not be found in the restored object: (root).optimizer.decay\n",
            "WARNING:tensorflow:Value in checkpoint could not be found in the restored object: (root).optimizer.learning_rate\n",
            "WARNING:tensorflow:Value in checkpoint could not be found in the restored object: (root).optimizer's state 'm' for (root).layer_with_weights-0.kernel\n",
            "WARNING:tensorflow:Value in checkpoint could not be found in the restored object: (root).optimizer's state 'm' for (root).layer_with_weights-0.bias\n",
            "WARNING:tensorflow:Value in checkpoint could not be found in the restored object: (root).optimizer's state 'm' for (root).layer_with_weights-1.gamma\n",
            "WARNING:tensorflow:Value in checkpoint could not be found in the restored object: (root).optimizer's state 'm' for (root).layer_with_weights-1.beta\n",
            "WARNING:tensorflow:Value in checkpoint could not be found in the restored object: (root).optimizer's state 'm' for (root).layer_with_weights-2.kernel\n",
            "WARNING:tensorflow:Value in checkpoint could not be found in the restored object: (root).optimizer's state 'm' for (root).layer_with_weights-2.bias\n",
            "WARNING:tensorflow:Value in checkpoint could not be found in the restored object: (root).optimizer's state 'm' for (root).layer_with_weights-3.gamma\n",
            "WARNING:tensorflow:Value in checkpoint could not be found in the restored object: (root).optimizer's state 'm' for (root).layer_with_weights-3.beta\n",
            "WARNING:tensorflow:Value in checkpoint could not be found in the restored object: (root).optimizer's state 'm' for (root).layer_with_weights-4.kernel\n",
            "WARNING:tensorflow:Value in checkpoint could not be found in the restored object: (root).optimizer's state 'm' for (root).layer_with_weights-4.bias\n",
            "WARNING:tensorflow:Value in checkpoint could not be found in the restored object: (root).optimizer's state 'm' for (root).layer_with_weights-5.gamma\n",
            "WARNING:tensorflow:Value in checkpoint could not be found in the restored object: (root).optimizer's state 'm' for (root).layer_with_weights-5.beta\n",
            "WARNING:tensorflow:Value in checkpoint could not be found in the restored object: (root).optimizer's state 'm' for (root).layer_with_weights-6.kernel\n",
            "WARNING:tensorflow:Value in checkpoint could not be found in the restored object: (root).optimizer's state 'm' for (root).layer_with_weights-6.bias\n",
            "WARNING:tensorflow:Value in checkpoint could not be found in the restored object: (root).optimizer's state 'm' for (root).layer_with_weights-7.kernel\n",
            "WARNING:tensorflow:Value in checkpoint could not be found in the restored object: (root).optimizer's state 'm' for (root).layer_with_weights-7.bias\n",
            "WARNING:tensorflow:Value in checkpoint could not be found in the restored object: (root).optimizer's state 'v' for (root).layer_with_weights-0.kernel\n",
            "WARNING:tensorflow:Value in checkpoint could not be found in the restored object: (root).optimizer's state 'v' for (root).layer_with_weights-0.bias\n",
            "WARNING:tensorflow:Value in checkpoint could not be found in the restored object: (root).optimizer's state 'v' for (root).layer_with_weights-1.gamma\n",
            "WARNING:tensorflow:Value in checkpoint could not be found in the restored object: (root).optimizer's state 'v' for (root).layer_with_weights-1.beta\n",
            "WARNING:tensorflow:Value in checkpoint could not be found in the restored object: (root).optimizer's state 'v' for (root).layer_with_weights-2.kernel\n",
            "WARNING:tensorflow:Value in checkpoint could not be found in the restored object: (root).optimizer's state 'v' for (root).layer_with_weights-2.bias\n",
            "WARNING:tensorflow:Value in checkpoint could not be found in the restored object: (root).optimizer's state 'v' for (root).layer_with_weights-3.gamma\n",
            "WARNING:tensorflow:Value in checkpoint could not be found in the restored object: (root).optimizer's state 'v' for (root).layer_with_weights-3.beta\n",
            "WARNING:tensorflow:Value in checkpoint could not be found in the restored object: (root).optimizer's state 'v' for (root).layer_with_weights-4.kernel\n",
            "WARNING:tensorflow:Value in checkpoint could not be found in the restored object: (root).optimizer's state 'v' for (root).layer_with_weights-4.bias\n",
            "WARNING:tensorflow:Value in checkpoint could not be found in the restored object: (root).optimizer's state 'v' for (root).layer_with_weights-5.gamma\n",
            "WARNING:tensorflow:Value in checkpoint could not be found in the restored object: (root).optimizer's state 'v' for (root).layer_with_weights-5.beta\n",
            "WARNING:tensorflow:Value in checkpoint could not be found in the restored object: (root).optimizer's state 'v' for (root).layer_with_weights-6.kernel\n",
            "WARNING:tensorflow:Value in checkpoint could not be found in the restored object: (root).optimizer's state 'v' for (root).layer_with_weights-6.bias\n",
            "WARNING:tensorflow:Value in checkpoint could not be found in the restored object: (root).optimizer's state 'v' for (root).layer_with_weights-7.kernel\n",
            "WARNING:tensorflow:Value in checkpoint could not be found in the restored object: (root).optimizer's state 'v' for (root).layer_with_weights-7.bias\n"
          ]
        }
      ],
      "source": [
        "model_lenet5_57=Sequential([\n",
        "    Conv2D(6, (5, 5), input_shape=(28, 28, 1), padding=\"same\",trainable=False),\n",
        "    layers.BatchNormalization(),\n",
        "    layers.Activation('relu'),\n",
        "    Dropout(0.2),\n",
        "    AvgPool2D(2, 2, trainable=False), \n",
        "    Conv2D(16, (5, 5),trainable=False),\n",
        "    layers.BatchNormalization(),\n",
        "    layers.Activation('relu'),\n",
        "    Dropout(0.2),\n",
        "    AvgPool2D(2, 2,trainable=False), \n",
        "    Conv2D(120, (5, 5),trainable=False), \n",
        "    layers.BatchNormalization(),\n",
        "    layers.Activation('relu'),\n",
        "    Dropout(0.2),\n",
        "    Flatten(), \n",
        "    Dense(84, activation='relu',trainable=False), \n",
        "    Dense(10, activation='softmax',trainable=False)\n",
        "],name=\"LeNet-5_57\")\n",
        "\n"
      ]
    },
    {
      "cell_type": "code",
      "execution_count": null,
      "id": "6ec05083",
      "metadata": {
        "id": "6ec05083"
      },
      "outputs": [],
      "source": [
        "model_lenet5_67=Sequential([\n",
        "    Conv2D(6, (5, 5), input_shape=(28, 28, 1), padding=\"same\",trainable=False),\n",
        "    layers.BatchNormalization(),\n",
        "    layers.Activation('relu'),\n",
        "    Dropout(0.2),\n",
        "    AvgPool2D(2, 2, trainable=False), \n",
        "    Conv2D(16, (5, 5),trainable=False),\n",
        "    layers.BatchNormalization(),\n",
        "    layers.Activation('relu'),\n",
        "    Dropout(0.2),\n",
        "    AvgPool2D(2, 2,trainable=False), \n",
        "    Conv2D(120, (5, 5),trainable=False), \n",
        "    layers.BatchNormalization(),\n",
        "    layers.Activation('relu'),\n",
        "    Dropout(0.2),\n",
        "    Flatten(), \n",
        "    Dense(84, activation='relu',trainable=False), \n",
        "    Dense(10, activation='softmax',trainable=False)\n",
        "],name=\"LeNet-5_67\")\n",
        "\n"
      ]
    },
    {
      "cell_type": "code",
      "execution_count": null,
      "id": "d72971e4",
      "metadata": {
        "id": "d72971e4",
        "outputId": "7399d995-894b-4edb-d784-19e3e8d1768c"
      },
      "outputs": [
        {
          "data": {
            "text/plain": [
              "<tensorflow.python.checkpoint.checkpoint.CheckpointLoadStatus at 0x1ad077d0c70>"
            ]
          },
          "execution_count": 172,
          "metadata": {},
          "output_type": "execute_result"
        }
      ],
      "source": [
        "model_lenet5_57.load_weights('C:/Users/user/Desktop/cpkt/cp--0057.ckpt')\n",
        "model_lenet5_67.load_weights('C:/Users/user/Desktop/cpkt/cp--0067.ckpt')"
      ]
    },
    {
      "cell_type": "code",
      "execution_count": null,
      "id": "f9207af6",
      "metadata": {
        "id": "f9207af6"
      },
      "outputs": [],
      "source": [
        "x1=model_lenet5_57.output\n",
        "x2=model_lenet5_67.output"
      ]
    },
    {
      "cell_type": "code",
      "execution_count": null,
      "id": "e1114195",
      "metadata": {
        "id": "e1114195"
      },
      "outputs": [],
      "source": [
        "net=layers.Average()([x1,x2])"
      ]
    },
    {
      "cell_type": "code",
      "execution_count": null,
      "id": "202dcf72",
      "metadata": {
        "id": "202dcf72"
      },
      "outputs": [],
      "source": [
        "output=Dense(10, activation='softmax')(net)"
      ]
    },
    {
      "cell_type": "code",
      "execution_count": null,
      "id": "6dafea1e",
      "metadata": {
        "id": "6dafea1e"
      },
      "outputs": [],
      "source": [
        "model_ensemble=models.Model([model_lenet5_57.input,model_lenet5_67.input],net)"
      ]
    },
    {
      "cell_type": "code",
      "execution_count": null,
      "id": "6299fc7f",
      "metadata": {
        "id": "6299fc7f"
      },
      "outputs": [],
      "source": [
        "model_ensemble.compile(optimizer='adam',\n",
        "              loss='sparse_categorical_crossentropy',\n",
        "              metrics=['accuracy'])"
      ]
    },
    {
      "cell_type": "code",
      "execution_count": null,
      "id": "e659ba9c",
      "metadata": {
        "id": "e659ba9c",
        "outputId": "8724d98b-df64-419f-e314-c99b04eaf1ca"
      },
      "outputs": [
        {
          "name": "stdout",
          "output_type": "stream",
          "text": [
            "Model: \"model_4\"\n",
            "__________________________________________________________________________________________________\n",
            " Layer (type)                   Output Shape         Param #     Connected to                     \n",
            "==================================================================================================\n",
            " conv2d_21_input (InputLayer)   [(None, 28, 28, 1)]  0           []                               \n",
            "                                                                                                  \n",
            " conv2d_24_input (InputLayer)   [(None, 28, 28, 1)]  0           []                               \n",
            "                                                                                                  \n",
            " conv2d_21 (Conv2D)             (None, 28, 28, 6)    156         ['conv2d_21_input[0][0]']        \n",
            "                                                                                                  \n",
            " conv2d_24 (Conv2D)             (None, 28, 28, 6)    156         ['conv2d_24_input[0][0]']        \n",
            "                                                                                                  \n",
            " batch_normalization_59 (BatchN  (None, 28, 28, 6)   24          ['conv2d_21[0][0]']              \n",
            " ormalization)                                                                                    \n",
            "                                                                                                  \n",
            " batch_normalization_62 (BatchN  (None, 28, 28, 6)   24          ['conv2d_24[0][0]']              \n",
            " ormalization)                                                                                    \n",
            "                                                                                                  \n",
            " activation_59 (Activation)     (None, 28, 28, 6)    0           ['batch_normalization_59[0][0]'] \n",
            "                                                                                                  \n",
            " activation_62 (Activation)     (None, 28, 28, 6)    0           ['batch_normalization_62[0][0]'] \n",
            "                                                                                                  \n",
            " dropout_67 (Dropout)           (None, 28, 28, 6)    0           ['activation_59[0][0]']          \n",
            "                                                                                                  \n",
            " dropout_70 (Dropout)           (None, 28, 28, 6)    0           ['activation_62[0][0]']          \n",
            "                                                                                                  \n",
            " average_pooling2d_14 (AverageP  (None, 14, 14, 6)   0           ['dropout_67[0][0]']             \n",
            " ooling2D)                                                                                        \n",
            "                                                                                                  \n",
            " average_pooling2d_16 (AverageP  (None, 14, 14, 6)   0           ['dropout_70[0][0]']             \n",
            " ooling2D)                                                                                        \n",
            "                                                                                                  \n",
            " conv2d_22 (Conv2D)             (None, 10, 10, 16)   2416        ['average_pooling2d_14[0][0]']   \n",
            "                                                                                                  \n",
            " conv2d_25 (Conv2D)             (None, 10, 10, 16)   2416        ['average_pooling2d_16[0][0]']   \n",
            "                                                                                                  \n",
            " batch_normalization_60 (BatchN  (None, 10, 10, 16)  64          ['conv2d_22[0][0]']              \n",
            " ormalization)                                                                                    \n",
            "                                                                                                  \n",
            " batch_normalization_63 (BatchN  (None, 10, 10, 16)  64          ['conv2d_25[0][0]']              \n",
            " ormalization)                                                                                    \n",
            "                                                                                                  \n",
            " activation_60 (Activation)     (None, 10, 10, 16)   0           ['batch_normalization_60[0][0]'] \n",
            "                                                                                                  \n",
            " activation_63 (Activation)     (None, 10, 10, 16)   0           ['batch_normalization_63[0][0]'] \n",
            "                                                                                                  \n",
            " dropout_68 (Dropout)           (None, 10, 10, 16)   0           ['activation_60[0][0]']          \n",
            "                                                                                                  \n",
            " dropout_71 (Dropout)           (None, 10, 10, 16)   0           ['activation_63[0][0]']          \n",
            "                                                                                                  \n",
            " average_pooling2d_15 (AverageP  (None, 5, 5, 16)    0           ['dropout_68[0][0]']             \n",
            " ooling2D)                                                                                        \n",
            "                                                                                                  \n",
            " average_pooling2d_17 (AverageP  (None, 5, 5, 16)    0           ['dropout_71[0][0]']             \n",
            " ooling2D)                                                                                        \n",
            "                                                                                                  \n",
            " conv2d_23 (Conv2D)             (None, 1, 1, 120)    48120       ['average_pooling2d_15[0][0]']   \n",
            "                                                                                                  \n",
            " conv2d_26 (Conv2D)             (None, 1, 1, 120)    48120       ['average_pooling2d_17[0][0]']   \n",
            "                                                                                                  \n",
            " batch_normalization_61 (BatchN  (None, 1, 1, 120)   480         ['conv2d_23[0][0]']              \n",
            " ormalization)                                                                                    \n",
            "                                                                                                  \n",
            " batch_normalization_64 (BatchN  (None, 1, 1, 120)   480         ['conv2d_26[0][0]']              \n",
            " ormalization)                                                                                    \n",
            "                                                                                                  \n",
            " activation_61 (Activation)     (None, 1, 1, 120)    0           ['batch_normalization_61[0][0]'] \n",
            "                                                                                                  \n",
            " activation_64 (Activation)     (None, 1, 1, 120)    0           ['batch_normalization_64[0][0]'] \n",
            "                                                                                                  \n",
            " dropout_69 (Dropout)           (None, 1, 1, 120)    0           ['activation_61[0][0]']          \n",
            "                                                                                                  \n",
            " dropout_72 (Dropout)           (None, 1, 1, 120)    0           ['activation_64[0][0]']          \n",
            "                                                                                                  \n",
            " flatten_7 (Flatten)            (None, 120)          0           ['dropout_69[0][0]']             \n",
            "                                                                                                  \n",
            " flatten_8 (Flatten)            (None, 120)          0           ['dropout_72[0][0]']             \n",
            "                                                                                                  \n",
            " dense_15 (Dense)               (None, 84)           10164       ['flatten_7[0][0]']              \n",
            "                                                                                                  \n",
            " dense_17 (Dense)               (None, 84)           10164       ['flatten_8[0][0]']              \n",
            "                                                                                                  \n",
            " dense_16 (Dense)               (None, 10)           850         ['dense_15[0][0]']               \n",
            "                                                                                                  \n"
          ]
        },
        {
          "name": "stdout",
          "output_type": "stream",
          "text": [
            " dense_18 (Dense)               (None, 10)           850         ['dense_17[0][0]']               \n",
            "                                                                                                  \n",
            " average_5 (Average)            (None, 10)           0           ['dense_16[0][0]',               \n",
            "                                                                  'dense_18[0][0]']               \n",
            "                                                                                                  \n",
            "==================================================================================================\n",
            "Total params: 124,548\n",
            "Trainable params: 568\n",
            "Non-trainable params: 123,980\n",
            "__________________________________________________________________________________________________\n"
          ]
        }
      ],
      "source": [
        "model_ensemble.summary()"
      ]
    },
    {
      "cell_type": "code",
      "execution_count": null,
      "id": "a92c606d",
      "metadata": {
        "id": "a92c606d",
        "outputId": "07edcb37-9e8a-4731-c8ed-beadb76dc6c9"
      },
      "outputs": [
        {
          "name": "stdout",
          "output_type": "stream",
          "text": [
            "Epoch 1/30\n",
            "500/500 [==============================] - 6s 12ms/step - loss: 0.0050 - accuracy: 0.9992 - val_loss: 0.0262 - val_accuracy: 0.9939\n",
            "Epoch 2/30\n",
            "500/500 [==============================] - 5s 11ms/step - loss: 0.0047 - accuracy: 0.9992 - val_loss: 0.0264 - val_accuracy: 0.9942\n",
            "Epoch 3/30\n",
            "500/500 [==============================] - 5s 11ms/step - loss: 0.0049 - accuracy: 0.9990 - val_loss: 0.0262 - val_accuracy: 0.9939\n",
            "Epoch 4/30\n",
            "500/500 [==============================] - 5s 11ms/step - loss: 0.0049 - accuracy: 0.9990 - val_loss: 0.0269 - val_accuracy: 0.9940\n",
            "Epoch 5/30\n",
            "500/500 [==============================] - 5s 10ms/step - loss: 0.0046 - accuracy: 0.9991 - val_loss: 0.0265 - val_accuracy: 0.9940\n",
            "Epoch 6/30\n",
            "500/500 [==============================] - 5s 11ms/step - loss: 0.0049 - accuracy: 0.9991 - val_loss: 0.0264 - val_accuracy: 0.9941\n",
            "Epoch 7/30\n",
            "500/500 [==============================] - 5s 10ms/step - loss: 0.0051 - accuracy: 0.9990 - val_loss: 0.0265 - val_accuracy: 0.9939\n",
            "Epoch 8/30\n",
            "500/500 [==============================] - 5s 11ms/step - loss: 0.0048 - accuracy: 0.9989 - val_loss: 0.0266 - val_accuracy: 0.9937\n",
            "Epoch 9/30\n",
            "500/500 [==============================] - 5s 10ms/step - loss: 0.0053 - accuracy: 0.9989 - val_loss: 0.0266 - val_accuracy: 0.9939\n",
            "Epoch 10/30\n",
            "500/500 [==============================] - 5s 10ms/step - loss: 0.0049 - accuracy: 0.9991 - val_loss: 0.0263 - val_accuracy: 0.9939\n",
            "Epoch 11/30\n",
            "500/500 [==============================] - 5s 10ms/step - loss: 0.0050 - accuracy: 0.9991 - val_loss: 0.0267 - val_accuracy: 0.9938\n",
            "Epoch 12/30\n",
            "500/500 [==============================] - 5s 11ms/step - loss: 0.0050 - accuracy: 0.9992 - val_loss: 0.0272 - val_accuracy: 0.9940\n",
            "Epoch 13/30\n",
            "500/500 [==============================] - 5s 11ms/step - loss: 0.0047 - accuracy: 0.9990 - val_loss: 0.0271 - val_accuracy: 0.9942\n",
            "Epoch 14/30\n",
            "500/500 [==============================] - 5s 10ms/step - loss: 0.0049 - accuracy: 0.9992 - val_loss: 0.0267 - val_accuracy: 0.9942\n",
            "Epoch 15/30\n",
            "500/500 [==============================] - 5s 10ms/step - loss: 0.0051 - accuracy: 0.9990 - val_loss: 0.0272 - val_accuracy: 0.9939\n",
            "Epoch 16/30\n",
            "500/500 [==============================] - 5s 10ms/step - loss: 0.0047 - accuracy: 0.9991 - val_loss: 0.0275 - val_accuracy: 0.9939\n",
            "Epoch 17/30\n",
            "500/500 [==============================] - 5s 10ms/step - loss: 0.0052 - accuracy: 0.9989 - val_loss: 0.0277 - val_accuracy: 0.9940\n",
            "Epoch 18/30\n",
            "500/500 [==============================] - 5s 10ms/step - loss: 0.0050 - accuracy: 0.9990 - val_loss: 0.0276 - val_accuracy: 0.9939\n",
            "Epoch 19/30\n",
            "500/500 [==============================] - 5s 10ms/step - loss: 0.0045 - accuracy: 0.9991 - val_loss: 0.0271 - val_accuracy: 0.9939\n",
            "Epoch 20/30\n",
            "500/500 [==============================] - 5s 11ms/step - loss: 0.0050 - accuracy: 0.9989 - val_loss: 0.0271 - val_accuracy: 0.9937\n",
            "Epoch 21/30\n",
            "500/500 [==============================] - 5s 11ms/step - loss: 0.0051 - accuracy: 0.9990 - val_loss: 0.0275 - val_accuracy: 0.9937\n",
            "Epoch 22/30\n",
            "500/500 [==============================] - 5s 10ms/step - loss: 0.0050 - accuracy: 0.9991 - val_loss: 0.0273 - val_accuracy: 0.9937\n",
            "Epoch 23/30\n",
            "500/500 [==============================] - 5s 10ms/step - loss: 0.0046 - accuracy: 0.9991 - val_loss: 0.0281 - val_accuracy: 0.9937\n",
            "Epoch 24/30\n",
            "500/500 [==============================] - 5s 10ms/step - loss: 0.0054 - accuracy: 0.9989 - val_loss: 0.0283 - val_accuracy: 0.9938\n",
            "Epoch 25/30\n",
            "500/500 [==============================] - 5s 10ms/step - loss: 0.0047 - accuracy: 0.9990 - val_loss: 0.0278 - val_accuracy: 0.9939\n",
            "Epoch 26/30\n",
            "500/500 [==============================] - 5s 9ms/step - loss: 0.0049 - accuracy: 0.9990 - val_loss: 0.0276 - val_accuracy: 0.9938\n",
            "Epoch 27/30\n",
            "500/500 [==============================] - 4s 9ms/step - loss: 0.0053 - accuracy: 0.9989 - val_loss: 0.0272 - val_accuracy: 0.9937\n",
            "Epoch 28/30\n",
            "500/500 [==============================] - 5s 9ms/step - loss: 0.0053 - accuracy: 0.9987 - val_loss: 0.0279 - val_accuracy: 0.9939\n",
            "Epoch 29/30\n",
            "500/500 [==============================] - 5s 10ms/step - loss: 0.0047 - accuracy: 0.9990 - val_loss: 0.0281 - val_accuracy: 0.9939\n",
            "Epoch 30/30\n",
            "500/500 [==============================] - 5s 10ms/step - loss: 0.0044 - accuracy: 0.9991 - val_loss: 0.0281 - val_accuracy: 0.9938\n"
          ]
        },
        {
          "data": {
            "text/plain": [
              "<keras.callbacks.History at 0x1ad1432e880>"
            ]
          },
          "execution_count": 186,
          "metadata": {},
          "output_type": "execute_result"
        }
      ],
      "source": [
        "model_ensemble.fit([train_images,train_images], train_labels, epochs=30,validation_split=0.2,batch_size=96)"
      ]
    },
    {
      "cell_type": "code",
      "execution_count": null,
      "id": "c098322c",
      "metadata": {
        "id": "c098322c",
        "outputId": "64a4e865-70d8-43a7-818b-122bca1ea1e1"
      },
      "outputs": [
        {
          "name": "stdout",
          "output_type": "stream",
          "text": [
            "313/313 - 2s - loss: 0.0176 - accuracy: 0.9951 - 2s/epoch - 5ms/step\n"
          ]
        }
      ],
      "source": [
        "test_loss, test_acc = model_ensemble.evaluate([test_images,test_images],  test_labels, verbose=2)"
      ]
    }
  ],
  "metadata": {
    "kernelspec": {
      "display_name": "Python 3 (ipykernel)",
      "language": "python",
      "name": "python3"
    },
    "language_info": {
      "codemirror_mode": {
        "name": "ipython",
        "version": 3
      },
      "file_extension": ".py",
      "mimetype": "text/x-python",
      "name": "python",
      "nbconvert_exporter": "python",
      "pygments_lexer": "ipython3",
      "version": "3.9.12"
    },
    "colab": {
      "provenance": [],
      "toc_visible": true
    }
  },
  "nbformat": 4,
  "nbformat_minor": 5
}
