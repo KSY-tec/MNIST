{
  "cells": [
    {
      "cell_type": "markdown",
      "id": "IUn0B-Z5oLLs",
      "metadata": {
        "id": "IUn0B-Z5oLLs"
      },
      "source": [
        "# Tensorflow(keras)를 활용한 손글씨(숫자) 인식​\n",
        "---"
      ]
    },
    {
      "cell_type": "markdown",
      "id": "KDEz07xvpG2V",
      "metadata": {
        "id": "KDEz07xvpG2V"
      },
      "source": [
        "## 1. 프로젝트 선정 이유, 프로젝트 환경"
      ]
    },
    {
      "cell_type": "markdown",
      "id": "N2ntsBNToT5D",
      "metadata": {
        "id": "N2ntsBNToT5D"
      },
      "source": [
        " * 증강현실 등 다양한 혁신기술들이 점차 일상생활에 적용되고 있다. 향후 실생활과 네트워크의 가교 역할을 하는 기술에 대한 수요는 지속적으로 증가할 것으로 예상된다. 여기서 OCR은 가장 기본적이면서도 핵심적인 기술이 될 것이다. 특히 숫자는 온라인과 오프라인 양 측에서 모두 핵심적인 정보전달 수단으로 쓰이고 있다. 전화번호, 우편번호 등 다양한 숫자 정보들이 실생활에서 수기로 쓰여지고 있어 디지털 자료로 전환될 필요 여지가 있다. 이러한 정보들은 기존의 방식으로는 디지털화가 어려웠으나, 인공신경망 기술은 기존에는 처리하기 어려웠던 자료들도 처리할 수 있게 하였다. 따라서 이 프로젝트에서는 인공신경망을 구축하여 수기로 쓰여져 이미지 형태로 저장된 데이터를 컴퓨터가 처리할 수 있는 디지털 형태의 자료로 만드는 것을 목표로 하였다.​"
      ]
    },
    {
      "cell_type": "markdown",
      "id": "grG81rNKWQ0A",
      "metadata": {
        "id": "grG81rNKWQ0A"
      },
      "source": [
        " * 사용 언어\n",
        "  * Python\n",
        "  * 리눅스\n",
        "\n",
        " * 사용 도구\n",
        "  * Tensorflow\n",
        "  * keras"
      ]
    },
    {
      "cell_type": "markdown",
      "id": "5y2-hWBppi2j",
      "metadata": {
        "id": "5y2-hWBppi2j"
      },
      "source": [
        "## 2. 사전 준비"
      ]
    },
    {
      "cell_type": "code",
      "execution_count": null,
      "id": "Z13YdA419RiL",
      "metadata": {
        "id": "Z13YdA419RiL"
      },
      "outputs": [],
      "source": [
        "# 관련 도구 라이브러리 불러오기\n",
        "from tensorflow.keras import datasets, layers, models\n",
        "from tensorflow.keras.models import Sequential\n",
        "from tensorflow.keras.layers import Conv2D, AvgPool2D, Flatten,Dense, Dropout,MaxPooling2D\n",
        "from tensorflow.keras.models import load_model\n",
        "import tensorflow as tf\n",
        "\n",
        "import numpy as np\n",
        "import matplotlib.pyplot as plt\n",
        "\n",
        "import os"
      ]
    },
    {
      "cell_type": "code",
      "execution_count": null,
      "id": "qxOq32S39RiP",
      "metadata": {
        "id": "qxOq32S39RiP"
      },
      "outputs": [],
      "source": [
        "# 데이터셋 불러오기\n",
        "(train_images, train_labels), (test_images, test_labels) = datasets.mnist.load_data()\n",
        "train_images = train_images.reshape((60000, 28, 28, 1))\n",
        "test_images = test_images.reshape((10000, 28, 28, 1))\n",
        "\n",
        "# 데이터 정규화\n",
        "train_images, test_images = train_images / 255.0, test_images / 255.0"
      ]
    },
    {
      "cell_type": "markdown",
      "id": "gg_jUG74p1nT",
      "metadata": {
        "id": "gg_jUG74p1nT"
      },
      "source": [
        "## 3. 데이터셋 탐색"
      ]
    },
    {
      "cell_type": "code",
      "execution_count": null,
      "id": "iofUs6pmnIlw",
      "metadata": {
        "colab": {
          "base_uri": "https://localhost:8080/",
          "height": 283
        },
        "id": "iofUs6pmnIlw",
        "outputId": "d6e4a2a7-588f-4755-d9e7-e6f8f9ec2798"
      },
      "outputs": [
        {
          "data": {
            "text/plain": [
              "<matplotlib.image.AxesImage at 0x7f3d0ffa66d0>"
            ]
          },
          "execution_count": 23,
          "metadata": {},
          "output_type": "execute_result"
        },
        {
          "data": {
            "image/png": "[encoded data removed]",
            "text/plain": [
              "<Figure size 432x288 with 1 Axes>"
            ]
          },
          "metadata": {
            "needs_background": "light"
          },
          "output_type": "display_data"
        }
      ],
      "source": [
        "plt.imshow(train_images[0], cmap=plt.cm.binary)"
      ]
    },
    {
      "cell_type": "code",
      "execution_count": null,
      "id": "k__khMa_njqK",
      "metadata": {
        "id": "k__khMa_njqK"
      },
      "outputs": [],
      "source": [
        "class_names = [0,1,2,3,4,5,6,7,8,9]"
      ]
    },
    {
      "cell_type": "code",
      "execution_count": null,
      "id": "oeLoDqFqnaWp",
      "metadata": {
        "colab": {
          "base_uri": "https://localhost:8080/",
          "height": 589
        },
        "id": "oeLoDqFqnaWp",
        "outputId": "4f991a36-6779-4c4f-9a49-ac14bba64589"
      },
      "outputs": [
        {
          "data": {
            "image/png": "[encoded data removed]",
            "text/plain": [
              "<Figure size 720x720 with 9 Axes>"
            ]
          },
          "metadata": {},
          "output_type": "display_data"
        }
      ],
      "source": [
        "plt.figure(figsize=(10,10))\n",
        "for i in range(9):\n",
        "    plt.subplot(3,3,i+1)\n",
        "    plt.xticks([])\n",
        "    plt.yticks([])\n",
        "    plt.grid(False)\n",
        "    plt.imshow(train_images[i], cmap=plt.cm.binary)\n",
        "    plt.xlabel(class_names[train_labels[i]])\n",
        "plt.show()"
      ]
    },
    {
      "cell_type": "markdown",
      "id": "O-VAN0Ymp3ET",
      "metadata": {
        "id": "O-VAN0Ymp3ET"
      },
      "source": [
        "## 4. 베이스라인 모델"
      ]
    },
    {
      "cell_type": "code",
      "execution_count": null,
      "id": "2DcCxO3H9RiS",
      "metadata": {
        "id": "2DcCxO3H9RiS"
      },
      "outputs": [],
      "source": [
        "model_base = Sequential([\n",
        "    Flatten(input_shape=(28, 28,1)),\n",
        "    Dense(64, activation='relu'),\n",
        "    Dense(64, activation='relu'),\n",
        "    Dense(64, activation='relu'),\n",
        "    Dense(64, activation='relu'),\n",
        "    Dense(64, activation='relu'),\n",
        "    Dense(64, activation='relu'),\n",
        "    Dense(10, activation='softmax')\n",
        "])"
      ]
    },
    {
      "cell_type": "code",
      "execution_count": null,
      "id": "1oVBwsmO9RiT",
      "metadata": {
        "id": "1oVBwsmO9RiT",
        "outputId": "8e59efb5-3be7-4873-88c0-a85080ce7d17"
      },
      "outputs": [
        {
          "name": "stdout",
          "output_type": "stream",
          "text": [
            "Model: \"sequential_9\"\n",
            "_________________________________________________________________\n",
            " Layer (type)                Output Shape              Param #   \n",
            "=================================================================\n",
            " flatten_11 (Flatten)        (None, 784)               0         \n",
            "                                                                 \n",
            " dense_40 (Dense)            (None, 64)                50240     \n",
            "                                                                 \n",
            " dense_41 (Dense)            (None, 64)                4160      \n",
            "                                                                 \n",
            " dense_42 (Dense)            (None, 64)                4160      \n",
            "                                                                 \n",
            " dense_43 (Dense)            (None, 64)                4160      \n",
            "                                                                 \n",
            " dense_44 (Dense)            (None, 64)                4160      \n",
            "                                                                 \n",
            " dense_45 (Dense)            (None, 64)                4160      \n",
            "                                                                 \n",
            " dense_46 (Dense)            (None, 10)                650       \n",
            "                                                                 \n",
            "=================================================================\n",
            "Total params: 71,690\n",
            "Trainable params: 71,690\n",
            "Non-trainable params: 0\n",
            "_________________________________________________________________\n"
          ]
        }
      ],
      "source": [
        "model_base.summary()"
      ]
    },
    {
      "cell_type": "markdown",
      "id": "Js66QfltYBPu",
      "metadata": {
        "id": "Js66QfltYBPu"
      },
      "source": [
        "  * 총 7층의 깊이를 갖는 인공신경망 구축\n",
        "  * 이미지를 각각의 픽셀 별로 나눈 뒤 1차원의 형태로 모델에 입력\n",
        "  * 구분해야 할 숫자는 0~9까지 10가지 이므로 출력층에서는 총 10개 노드가 존재\n",
        "  * 출력층을 제외한 나머지 층은 모두 64개의 노드로 구성된 단순한 형태의 ANN"
      ]
    },
    {
      "cell_type": "code",
      "execution_count": null,
      "id": "KGpx8TIv9RiT",
      "metadata": {
        "id": "KGpx8TIv9RiT"
      },
      "outputs": [],
      "source": [
        "model_base.compile(optimizer='sgd',\n",
        "              loss='sparse_categorical_crossentropy',\n",
        "              metrics=['accuracy'])"
      ]
    },
    {
      "cell_type": "code",
      "execution_count": null,
      "id": "bf_GieNz9RiU",
      "metadata": {
        "id": "bf_GieNz9RiU",
        "outputId": "994df70d-a015-4fc5-e3d6-2997e29fbb85"
      },
      "outputs": [
        {
          "name": "stdout",
          "output_type": "stream",
          "text": [
            "Epoch 1/30\n",
            "1500/1500 [==============================] - 7s 5ms/step - loss: 0.0857 - accuracy: 0.9736 - val_loss: 0.1326 - val_accuracy: 0.9603\n",
            "Epoch 2/30\n",
            "1500/1500 [==============================] - 7s 5ms/step - loss: 0.0771 - accuracy: 0.9767 - val_loss: 0.1213 - val_accuracy: 0.9656\n",
            "Epoch 3/30\n",
            "1500/1500 [==============================] - 7s 5ms/step - loss: 0.0707 - accuracy: 0.9782 - val_loss: 0.1248 - val_accuracy: 0.9655\n",
            "Epoch 4/30\n",
            "1500/1500 [==============================] - 7s 5ms/step - loss: 0.0653 - accuracy: 0.9804 - val_loss: 0.1286 - val_accuracy: 0.9643\n",
            "Epoch 5/30\n",
            "1500/1500 [==============================] - 7s 4ms/step - loss: 0.0590 - accuracy: 0.9826 - val_loss: 0.1384 - val_accuracy: 0.9628\n",
            "Epoch 6/30\n",
            "1500/1500 [==============================] - 7s 4ms/step - loss: 0.0543 - accuracy: 0.9844 - val_loss: 0.1174 - val_accuracy: 0.9682\n",
            "Epoch 7/30\n",
            "1500/1500 [==============================] - 7s 5ms/step - loss: 0.0495 - accuracy: 0.9844 - val_loss: 0.1252 - val_accuracy: 0.9648\n",
            "Epoch 8/30\n",
            "1500/1500 [==============================] - 7s 5ms/step - loss: 0.0468 - accuracy: 0.9856 - val_loss: 0.1241 - val_accuracy: 0.9682\n",
            "Epoch 9/30\n",
            "1500/1500 [==============================] - 7s 5ms/step - loss: 0.0413 - accuracy: 0.9874 - val_loss: 0.1253 - val_accuracy: 0.9679\n",
            "Epoch 10/30\n",
            "1500/1500 [==============================] - 7s 5ms/step - loss: 0.0380 - accuracy: 0.9885 - val_loss: 0.1259 - val_accuracy: 0.9682\n",
            "Epoch 11/30\n",
            "1500/1500 [==============================] - 7s 5ms/step - loss: 0.0364 - accuracy: 0.9887 - val_loss: 0.1275 - val_accuracy: 0.9697\n",
            "Epoch 12/30\n",
            "1500/1500 [==============================] - 8s 5ms/step - loss: 0.0343 - accuracy: 0.9893 - val_loss: 0.1568 - val_accuracy: 0.9645\n",
            "Epoch 13/30\n",
            "1500/1500 [==============================] - 7s 5ms/step - loss: 0.0317 - accuracy: 0.9902 - val_loss: 0.1317 - val_accuracy: 0.9692\n",
            "Epoch 14/30\n",
            "1500/1500 [==============================] - 7s 5ms/step - loss: 0.0280 - accuracy: 0.9916 - val_loss: 0.1366 - val_accuracy: 0.9678\n",
            "Epoch 15/30\n",
            "1500/1500 [==============================] - 7s 5ms/step - loss: 0.0235 - accuracy: 0.9930 - val_loss: 0.1527 - val_accuracy: 0.9648\n",
            "Epoch 16/30\n",
            "1500/1500 [==============================] - 8s 5ms/step - loss: 0.0220 - accuracy: 0.9932 - val_loss: 0.1425 - val_accuracy: 0.9694\n",
            "Epoch 17/30\n",
            "1500/1500 [==============================] - 7s 5ms/step - loss: 0.0217 - accuracy: 0.9934 - val_loss: 0.1390 - val_accuracy: 0.9682\n",
            "Epoch 18/30\n",
            "1500/1500 [==============================] - 7s 5ms/step - loss: 0.0181 - accuracy: 0.9947 - val_loss: 0.1440 - val_accuracy: 0.9703\n",
            "Epoch 19/30\n",
            "1500/1500 [==============================] - 7s 5ms/step - loss: 0.0160 - accuracy: 0.9952 - val_loss: 0.1489 - val_accuracy: 0.9706\n",
            "Epoch 20/30\n",
            "1500/1500 [==============================] - 7s 5ms/step - loss: 0.0169 - accuracy: 0.9949 - val_loss: 0.1523 - val_accuracy: 0.9693\n",
            "Epoch 21/30\n",
            "1500/1500 [==============================] - 7s 5ms/step - loss: 0.0152 - accuracy: 0.9957 - val_loss: 0.1644 - val_accuracy: 0.9666\n",
            "Epoch 22/30\n",
            "1500/1500 [==============================] - 7s 5ms/step - loss: 0.0123 - accuracy: 0.9965 - val_loss: 0.1563 - val_accuracy: 0.9698\n",
            "Epoch 23/30\n",
            "1500/1500 [==============================] - 7s 5ms/step - loss: 0.0102 - accuracy: 0.9974 - val_loss: 0.1575 - val_accuracy: 0.9705\n",
            "Epoch 24/30\n",
            "1500/1500 [==============================] - 7s 5ms/step - loss: 0.0090 - accuracy: 0.9975 - val_loss: 0.1772 - val_accuracy: 0.9658\n",
            "Epoch 25/30\n",
            "1500/1500 [==============================] - 7s 5ms/step - loss: 0.0080 - accuracy: 0.9979 - val_loss: 0.1646 - val_accuracy: 0.9700\n",
            "Epoch 26/30\n",
            "1500/1500 [==============================] - 7s 5ms/step - loss: 0.0069 - accuracy: 0.9985 - val_loss: 0.1855 - val_accuracy: 0.9668\n",
            "Epoch 27/30\n",
            "1500/1500 [==============================] - 7s 5ms/step - loss: 0.0076 - accuracy: 0.9981 - val_loss: 0.2117 - val_accuracy: 0.9644\n",
            "Epoch 28/30\n",
            "1500/1500 [==============================] - 7s 4ms/step - loss: 0.0111 - accuracy: 0.9967 - val_loss: 0.1831 - val_accuracy: 0.9693\n",
            "Epoch 29/30\n",
            "1500/1500 [==============================] - 7s 5ms/step - loss: 0.0076 - accuracy: 0.9977 - val_loss: 0.1786 - val_accuracy: 0.9699\n",
            "Epoch 30/30\n",
            "1500/1500 [==============================] - 7s 5ms/step - loss: 0.0066 - accuracy: 0.9982 - val_loss: 0.2197 - val_accuracy: 0.9628\n"
          ]
        }
      ],
      "source": [
        "history = model_base.fit(train_images, train_labels, epochs=30,\n",
        "                     validation_split=0.2, callbacks=[cp_callback])"
      ]
    },
    {
      "cell_type": "code",
      "execution_count": null,
      "id": "Y7cYG9kk0mkF",
      "metadata": {
        "id": "Y7cYG9kk0mkF"
      },
      "outputs": [],
      "source": [
        "baseline = Sequential([\n",
        "    Flatten(input_shape=(28, 28,1), name=\"flatten_1\"),\n",
        "    Dense(64, activation='relu', name=\"dense_1\"),\n",
        "    Dense(64, activation='relu',name=\"dense_2\"),\n",
        "    Dense(64, activation='relu',name=\"dense_3\"),\n",
        "    Dense(64, activation='relu',name=\"dense_4\"),\n",
        "    Dense(64, activation='relu',name=\"dense_5\"),\n",
        "    Dense(64, activation='relu',name=\"dense_6\"),\n",
        "    Dense(10, activation='softmax',name=\"dense_7\")\n",
        "],name=\"baseline\")"
      ]
    },
    {
      "cell_type": "code",
      "execution_count": null,
      "id": "48b9c95c",
      "metadata": {
        "id": "48b9c95c"
      },
      "outputs": [],
      "source": [
        " baseline = Sequential([\n",
        "    Flatten(input_shape=(28, 28,1), name=\"flatten_1\"),\n",
        "    Dense(64, activation='relu', name=\"dense_1\",kernel_initializer='glorot_uniform', bias_initializer='zeros'),\n",
        "    Dense(64, activation='relu',name=\"dense_2\",kernel_initializer='glorot_uniform', bias_initializer='zeros'),\n",
        "    Dense(64, activation='relu',name=\"dense_3\",kernel_initializer='glorot_uniform', bias_initializer='zeros'),\n",
        "    Dense(64, activation='relu',name=\"dense_4\",kernel_initializer='glorot_uniform', bias_initializer='zeros'),\n",
        "    Dense(64, activation='relu',name=\"dense_5\",kernel_initializer='glorot_uniform', bias_initializer='zeros'),\n",
        "    Dense(64, activation='relu',name=\"dense_6\",kernel_initializer='glorot_uniform', bias_initializer='zeros'),\n",
        "    Dense(10, activation='softmax',name=\"dense_7\",kernel_initializer='glorot_uniform', bias_initializer='zeros')\n",
        "],name=\"baseline\")\n",
        "    "
      ]
    },
    {
      "cell_type": "code",
      "execution_count": null,
      "id": "T_itlYqW0sy0",
      "metadata": {
        "colab": {
          "base_uri": "https://localhost:8080/"
        },
        "id": "T_itlYqW0sy0",
        "outputId": "22473fc1-c440-496f-bdff-72c016a81fba"
      },
      "outputs": [
        {
          "name": "stdout",
          "output_type": "stream",
          "text": [
            "Model: \"baseline\"\n",
            "_________________________________________________________________\n",
            " Layer (type)                Output Shape              Param #   \n",
            "=================================================================\n",
            " flatten_1 (Flatten)         (None, 784)               0         \n",
            "                                                                 \n",
            " dense_1 (Dense)             (None, 64)                50240     \n",
            "                                                                 \n",
            " dense_2 (Dense)             (None, 64)                4160      \n",
            "                                                                 \n",
            " dense_3 (Dense)             (None, 64)                4160      \n",
            "                                                                 \n",
            " dense_4 (Dense)             (None, 64)                4160      \n",
            "                                                                 \n",
            " dense_5 (Dense)             (None, 64)                4160      \n",
            "                                                                 \n",
            " dense_6 (Dense)             (None, 64)                4160      \n",
            "                                                                 \n",
            " dense_7 (Dense)             (None, 10)                650       \n",
            "                                                                 \n",
            "=================================================================\n",
            "Total params: 71,690\n",
            "Trainable params: 71,690\n",
            "Non-trainable params: 0\n",
            "_________________________________________________________________\n"
          ]
        }
      ],
      "source": [
        "baseline.summary()"
      ]
    },
    {
      "cell_type": "code",
      "execution_count": null,
      "id": "wVDugTYt4L69",
      "metadata": {
        "id": "wVDugTYt4L69"
      },
      "outputs": [],
      "source": [
        "baseline.compile(optimizer='sgd',\n",
        "              loss='sparse_categorical_crossentropy',\n",
        "              metrics=['accuracy'])"
      ]
    },
    {
      "cell_type": "code",
      "execution_count": null,
      "id": "F3WSavSs5S-E",
      "metadata": {
        "colab": {
          "base_uri": "https://localhost:8080/"
        },
        "id": "F3WSavSs5S-E",
        "outputId": "ece35572-bbac-4ade-d235-4fb6a062a36c"
      },
      "outputs": [
        {
          "name": "stdout",
          "output_type": "stream",
          "text": [
            "Epoch 1/30\n",
            "1500/1500 [==============================] - 7s 3ms/step - loss: 1.1566 - accuracy: 0.6166 - val_loss: 0.4011 - val_accuracy: 0.8807\n",
            "Epoch 2/30\n",
            "1500/1500 [==============================] - 4s 3ms/step - loss: 0.3386 - accuracy: 0.8982 - val_loss: 0.3023 - val_accuracy: 0.9051\n",
            "Epoch 3/30\n",
            "1500/1500 [==============================] - 5s 3ms/step - loss: 0.2434 - accuracy: 0.9271 - val_loss: 0.2123 - val_accuracy: 0.9344\n",
            "Epoch 4/30\n",
            "1500/1500 [==============================] - 4s 3ms/step - loss: 0.1946 - accuracy: 0.9420 - val_loss: 0.1757 - val_accuracy: 0.9495\n",
            "Epoch 5/30\n",
            "1500/1500 [==============================] - 4s 3ms/step - loss: 0.1642 - accuracy: 0.9511 - val_loss: 0.1536 - val_accuracy: 0.9545\n",
            "Epoch 6/30\n",
            "1500/1500 [==============================] - 4s 3ms/step - loss: 0.1405 - accuracy: 0.9573 - val_loss: 0.1445 - val_accuracy: 0.9585\n",
            "Epoch 7/30\n",
            "1500/1500 [==============================] - 4s 3ms/step - loss: 0.1236 - accuracy: 0.9633 - val_loss: 0.1541 - val_accuracy: 0.9543\n",
            "Epoch 8/30\n",
            "1500/1500 [==============================] - 4s 3ms/step - loss: 0.1100 - accuracy: 0.9664 - val_loss: 0.1301 - val_accuracy: 0.9609\n",
            "Epoch 9/30\n",
            "1500/1500 [==============================] - 4s 3ms/step - loss: 0.0986 - accuracy: 0.9706 - val_loss: 0.1506 - val_accuracy: 0.9551\n",
            "Epoch 10/30\n",
            "1500/1500 [==============================] - 4s 3ms/step - loss: 0.0890 - accuracy: 0.9729 - val_loss: 0.1159 - val_accuracy: 0.9655\n",
            "Epoch 11/30\n",
            "1500/1500 [==============================] - 4s 3ms/step - loss: 0.0805 - accuracy: 0.9756 - val_loss: 0.1275 - val_accuracy: 0.9628\n",
            "Epoch 12/30\n",
            "1500/1500 [==============================] - 4s 3ms/step - loss: 0.0741 - accuracy: 0.9779 - val_loss: 0.1172 - val_accuracy: 0.9660\n",
            "Epoch 13/30\n",
            "1500/1500 [==============================] - 4s 3ms/step - loss: 0.0677 - accuracy: 0.9793 - val_loss: 0.1152 - val_accuracy: 0.9671\n",
            "Epoch 14/30\n",
            "1500/1500 [==============================] - 4s 3ms/step - loss: 0.0640 - accuracy: 0.9805 - val_loss: 0.1156 - val_accuracy: 0.9675\n",
            "Epoch 15/30\n",
            "1500/1500 [==============================] - 4s 3ms/step - loss: 0.0585 - accuracy: 0.9815 - val_loss: 0.1218 - val_accuracy: 0.9664\n",
            "Epoch 16/30\n",
            "1500/1500 [==============================] - 5s 3ms/step - loss: 0.0529 - accuracy: 0.9836 - val_loss: 0.1173 - val_accuracy: 0.9675\n",
            "Epoch 17/30\n",
            "1500/1500 [==============================] - 4s 3ms/step - loss: 0.0492 - accuracy: 0.9844 - val_loss: 0.1327 - val_accuracy: 0.9638\n",
            "Epoch 18/30\n",
            "1500/1500 [==============================] - 4s 3ms/step - loss: 0.0466 - accuracy: 0.9851 - val_loss: 0.1170 - val_accuracy: 0.9680\n",
            "Epoch 19/30\n",
            "1500/1500 [==============================] - 4s 3ms/step - loss: 0.0429 - accuracy: 0.9871 - val_loss: 0.1204 - val_accuracy: 0.9688\n",
            "Epoch 20/30\n",
            "1500/1500 [==============================] - 4s 3ms/step - loss: 0.0404 - accuracy: 0.9875 - val_loss: 0.1155 - val_accuracy: 0.9697\n",
            "Epoch 21/30\n",
            "1500/1500 [==============================] - 5s 3ms/step - loss: 0.0367 - accuracy: 0.9884 - val_loss: 0.1206 - val_accuracy: 0.9700\n",
            "Epoch 22/30\n",
            "1500/1500 [==============================] - 4s 3ms/step - loss: 0.0340 - accuracy: 0.9892 - val_loss: 0.1257 - val_accuracy: 0.9675\n",
            "Epoch 23/30\n",
            "1500/1500 [==============================] - 4s 3ms/step - loss: 0.0300 - accuracy: 0.9909 - val_loss: 0.1260 - val_accuracy: 0.9684\n",
            "Epoch 24/30\n",
            "1500/1500 [==============================] - 4s 3ms/step - loss: 0.0291 - accuracy: 0.9907 - val_loss: 0.1281 - val_accuracy: 0.9679\n",
            "Epoch 25/30\n",
            "1500/1500 [==============================] - 4s 3ms/step - loss: 0.0250 - accuracy: 0.9923 - val_loss: 0.1480 - val_accuracy: 0.9648\n",
            "Epoch 26/30\n",
            "1500/1500 [==============================] - 4s 3ms/step - loss: 0.0264 - accuracy: 0.9915 - val_loss: 0.1298 - val_accuracy: 0.9702\n",
            "Epoch 27/30\n",
            "1500/1500 [==============================] - 4s 3ms/step - loss: 0.0227 - accuracy: 0.9931 - val_loss: 0.1392 - val_accuracy: 0.9693\n",
            "Epoch 28/30\n",
            "1500/1500 [==============================] - 4s 3ms/step - loss: 0.0214 - accuracy: 0.9933 - val_loss: 0.1413 - val_accuracy: 0.9681\n",
            "Epoch 29/30\n",
            "1500/1500 [==============================] - 4s 3ms/step - loss: 0.0207 - accuracy: 0.9937 - val_loss: 0.1386 - val_accuracy: 0.9697\n",
            "Epoch 30/30\n",
            "1500/1500 [==============================] - 4s 3ms/step - loss: 0.0175 - accuracy: 0.9947 - val_loss: 0.1335 - val_accuracy: 0.9715\n"
          ]
        }
      ],
      "source": [
        "history = baseline.fit(train_images, train_labels, epochs=30,\n",
        "                     validation_split=0.2)"
      ]
    },
    {
      "cell_type": "code",
      "execution_count": null,
      "id": "e5dfd035",
      "metadata": {
        "id": "e5dfd035",
        "outputId": "dfc4538f-7893-4fab-f098-8bfff31e8e8b"
      },
      "outputs": [
        {
          "name": "stdout",
          "output_type": "stream",
          "text": [
            "Epoch 1/20\n",
            "1875/1875 [==============================] - 11s 5ms/step - loss: 0.8816 - accuracy: 0.7298 - val_loss: 0.3251 - val_accuracy: 0.9029\n",
            "Epoch 2/20\n",
            "1875/1875 [==============================] - 9s 5ms/step - loss: 0.2847 - accuracy: 0.9153 - val_loss: 0.2247 - val_accuracy: 0.9330\n",
            "Epoch 3/20\n",
            "1875/1875 [==============================] - 10s 5ms/step - loss: 0.2080 - accuracy: 0.9383 - val_loss: 0.1830 - val_accuracy: 0.9454\n",
            "Epoch 4/20\n",
            "1875/1875 [==============================] - 10s 5ms/step - loss: 0.1675 - accuracy: 0.9495 - val_loss: 0.1538 - val_accuracy: 0.9540\n",
            "Epoch 5/20\n",
            "1875/1875 [==============================] - 9s 5ms/step - loss: 0.1405 - accuracy: 0.9576 - val_loss: 0.1364 - val_accuracy: 0.9606\n",
            "Epoch 6/20\n",
            "1875/1875 [==============================] - 9s 5ms/step - loss: 0.1225 - accuracy: 0.9626 - val_loss: 0.1304 - val_accuracy: 0.9597\n",
            "Epoch 7/20\n",
            "1875/1875 [==============================] - 9s 5ms/step - loss: 0.1068 - accuracy: 0.9679 - val_loss: 0.1229 - val_accuracy: 0.9636\n",
            "Epoch 8/20\n",
            "1875/1875 [==============================] - 9s 5ms/step - loss: 0.0954 - accuracy: 0.9711 - val_loss: 0.1342 - val_accuracy: 0.9602\n",
            "Epoch 9/20\n",
            "1875/1875 [==============================] - 9s 5ms/step - loss: 0.0875 - accuracy: 0.9739 - val_loss: 0.1101 - val_accuracy: 0.9667\n",
            "Epoch 10/20\n",
            "1875/1875 [==============================] - 9s 5ms/step - loss: 0.0789 - accuracy: 0.9763 - val_loss: 0.1057 - val_accuracy: 0.9692\n",
            "Epoch 11/20\n",
            "1875/1875 [==============================] - 8s 4ms/step - loss: 0.0722 - accuracy: 0.9779 - val_loss: 0.1086 - val_accuracy: 0.9666\n",
            "Epoch 12/20\n",
            "1875/1875 [==============================] - 9s 5ms/step - loss: 0.0670 - accuracy: 0.9794 - val_loss: 0.1069 - val_accuracy: 0.9682\n",
            "Epoch 13/20\n",
            "1875/1875 [==============================] - 9s 5ms/step - loss: 0.0630 - accuracy: 0.9810 - val_loss: 0.1044 - val_accuracy: 0.9718\n",
            "Epoch 14/20\n",
            "1875/1875 [==============================] - 9s 5ms/step - loss: 0.0577 - accuracy: 0.9830 - val_loss: 0.0936 - val_accuracy: 0.9724\n",
            "Epoch 15/20\n",
            "1875/1875 [==============================] - 10s 5ms/step - loss: 0.0532 - accuracy: 0.9846 - val_loss: 0.0951 - val_accuracy: 0.9719\n",
            "Epoch 16/20\n",
            "1875/1875 [==============================] - 9s 5ms/step - loss: 0.0493 - accuracy: 0.9852 - val_loss: 0.1040 - val_accuracy: 0.9711\n",
            "Epoch 17/20\n",
            "1875/1875 [==============================] - 8s 4ms/step - loss: 0.0457 - accuracy: 0.9862 - val_loss: 0.0919 - val_accuracy: 0.9743\n",
            "Epoch 18/20\n",
            "1875/1875 [==============================] - 9s 5ms/step - loss: 0.0428 - accuracy: 0.9868 - val_loss: 0.1007 - val_accuracy: 0.9721\n",
            "Epoch 19/20\n",
            "1875/1875 [==============================] - 8s 4ms/step - loss: 0.0401 - accuracy: 0.9881 - val_loss: 0.0985 - val_accuracy: 0.9726\n",
            "Epoch 20/20\n",
            "1875/1875 [==============================] - 7s 4ms/step - loss: 0.0364 - accuracy: 0.9888 - val_loss: 0.0956 - val_accuracy: 0.9732\n"
          ]
        }
      ],
      "source": [
        "history = baseline.fit(train_images, train_labels, epochs=20,validation_data=(test_images,test_labels))"
      ]
    },
    {
      "cell_type": "code",
      "execution_count": null,
      "id": "YwcTniZZ9RiW",
      "metadata": {
        "id": "YwcTniZZ9RiW"
      },
      "outputs": [],
      "source": [
        "history_dict = history.history"
      ]
    },
    {
      "cell_type": "code",
      "execution_count": null,
      "id": "caaf562c",
      "metadata": {
        "id": "caaf562c",
        "outputId": "9ccb4625-2913-4da3-a5d0-6a887d6e8d68"
      },
      "outputs": [
        {
          "name": "stdout",
          "output_type": "stream",
          "text": [
            "16\n"
          ]
        }
      ],
      "source": [
        "for i in range(20):\n",
        "    if (min(history.history['val_loss'])==history.history['val_loss'][i]):\n",
        "        print(i)"
      ]
    },
    {
      "cell_type": "code",
      "execution_count": null,
      "id": "46216526",
      "metadata": {
        "id": "46216526",
        "outputId": "45cacc53-b8a7-489e-ac32-27d6b6e301b6"
      },
      "outputs": [
        {
          "name": "stdout",
          "output_type": "stream",
          "text": [
            "16\n"
          ]
        }
      ],
      "source": [
        "for i in range(20):\n",
        "    if (max(history.history['val_accuracy'])==history.history['val_accuracy'][i]):\n",
        "        print(i)"
      ]
    },
    {
      "cell_type": "code",
      "execution_count": null,
      "id": "uaUD8IpE9Ria",
      "metadata": {
        "id": "uaUD8IpE9Ria",
        "outputId": "d432be11-d120-45bf-8cfb-33463168d75c"
      },
      "outputs": [
        {
          "data": {
            "image/png": "[encoded data removed]",
            "text/plain": [
              "<Figure size 432x288 with 1 Axes>"
            ]
          },
          "metadata": {
            "needs_background": "light"
          },
          "output_type": "display_data"
        }
      ],
      "source": [
        "acc = history_dict['accuracy']\n",
        "val_acc = history_dict['val_accuracy']\n",
        "loss = history_dict['loss']\n",
        "val_loss = history_dict['val_loss']\n",
        "\n",
        "epochs = range(1, len(acc) + 1)\n",
        "\n",
        "plt.plot(epochs, loss, 'b', label='Training loss')\n",
        "\n",
        "plt.plot(epochs, val_loss, 'r', label='Validation loss')\n",
        "plt.title('Training and validation loss')\n",
        "plt.xlabel('Epochs')\n",
        "plt.ylabel('Loss')\n",
        "plt.legend()\n",
        "\n",
        "plt.show()"
      ]
    },
    {
      "cell_type": "code",
      "execution_count": null,
      "id": "ZvV5Y4YI9Rib",
      "metadata": {
        "id": "ZvV5Y4YI9Rib",
        "outputId": "ca62dd7f-c5a4-4aeb-a267-6f4a12a377f7"
      },
      "outputs": [
        {
          "data": {
            "image/png": "[encoded data removed]",
            "text/plain": [
              "<Figure size 432x288 with 1 Axes>"
            ]
          },
          "metadata": {
            "needs_background": "light"
          },
          "output_type": "display_data"
        }
      ],
      "source": [
        "plt.clf()\n",
        "plt.plot(epochs, acc, 'b', label='Training acc')\n",
        "plt.plot(epochs, val_acc, 'r', label='Validation acc')\n",
        "plt.title('Training and validation accuracy')\n",
        "plt.xlabel('Epochs')\n",
        "plt.ylabel('Accuracy')\n",
        "plt.legend()\n",
        "\n",
        "plt.show()"
      ]
    },
    {
      "cell_type": "code",
      "execution_count": null,
      "id": "ov7_9Ubr9RiZ",
      "metadata": {
        "colab": {
          "base_uri": "https://localhost:8080/"
        },
        "id": "ov7_9Ubr9RiZ",
        "outputId": "1c6b1733-cd40-4f23-d317-2f34d3e8642f"
      },
      "outputs": [
        {
          "name": "stdout",
          "output_type": "stream",
          "text": [
            "313/313 - 1s - loss: 0.1169 - accuracy: 0.9724 - 856ms/epoch - 3ms/step\n"
          ]
        }
      ],
      "source": [
        "test_loss, test_acc = baseline.evaluate(test_images,  test_labels, verbose=2)"
      ]
    },
    {
      "cell_type": "code",
      "execution_count": null,
      "id": "25e8095c",
      "metadata": {
        "id": "25e8095c"
      },
      "outputs": [],
      "source": [
        "checkpoint_path = 'C:/Users/user/Desktop/cpkt/cp--{epoch:04d}.ckpt'\n",
        "checkpoint_dir = os.path.dirname(checkpoint_path)"
      ]
    },
    {
      "cell_type": "code",
      "execution_count": null,
      "id": "UDowMPc7zTFW",
      "metadata": {
        "id": "UDowMPc7zTFW"
      },
      "outputs": [],
      "source": [
        "cp_callback = tf.keras.callbacks.ModelCheckpoint(checkpoint_path,\n",
        "                                                 save_weights_only=True,\n",
        "                                                 verbose=0,\n",
        "                                                 save_freq='epoch',\n",
        "                                                 )  # 5번째 에포크마다 가중치를 저장"
      ]
    },
    {
      "cell_type": "code",
      "execution_count": null,
      "id": "2b854bbe",
      "metadata": {
        "id": "2b854bbe",
        "outputId": "8cd36fad-7465-4c60-9be3-f851661c20dd"
      },
      "outputs": [
        {
          "name": "stdout",
          "output_type": "stream",
          "text": [
            "Epoch 1/30\n",
            "1500/1500 [==============================] - 9s 6ms/step - loss: 1.3204 - accuracy: 0.5787 - val_loss: 0.5064 - val_accuracy: 0.8536\n",
            "Epoch 2/30\n",
            "1500/1500 [==============================] - 8s 5ms/step - loss: 0.3746 - accuracy: 0.8897 - val_loss: 0.2766 - val_accuracy: 0.9201\n",
            "Epoch 3/30\n",
            "1500/1500 [==============================] - 8s 5ms/step - loss: 0.2573 - accuracy: 0.9241 - val_loss: 0.2252 - val_accuracy: 0.9326\n",
            "Epoch 4/30\n",
            "1500/1500 [==============================] - 8s 6ms/step - loss: 0.2023 - accuracy: 0.9409 - val_loss: 0.1880 - val_accuracy: 0.9456\n",
            "Epoch 5/30\n",
            "1500/1500 [==============================] - 8s 5ms/step - loss: 0.1674 - accuracy: 0.9506 - val_loss: 0.1720 - val_accuracy: 0.9482\n",
            "Epoch 6/30\n",
            "1500/1500 [==============================] - 8s 5ms/step - loss: 0.1443 - accuracy: 0.9579 - val_loss: 0.1483 - val_accuracy: 0.9568\n",
            "Epoch 7/30\n",
            "1500/1500 [==============================] - 8s 5ms/step - loss: 0.1274 - accuracy: 0.9617 - val_loss: 0.1546 - val_accuracy: 0.9560\n",
            "Epoch 8/30\n",
            "1500/1500 [==============================] - 8s 5ms/step - loss: 0.1143 - accuracy: 0.9655 - val_loss: 0.1308 - val_accuracy: 0.9613\n",
            "Epoch 9/30\n",
            "1500/1500 [==============================] - 8s 5ms/step - loss: 0.1034 - accuracy: 0.9687 - val_loss: 0.1330 - val_accuracy: 0.9614\n",
            "Epoch 10/30\n",
            "1500/1500 [==============================] - 8s 5ms/step - loss: 0.0936 - accuracy: 0.9722 - val_loss: 0.1204 - val_accuracy: 0.9641\n",
            "Epoch 11/30\n",
            "1500/1500 [==============================] - 8s 5ms/step - loss: 0.0862 - accuracy: 0.9741 - val_loss: 0.1286 - val_accuracy: 0.9628\n",
            "Epoch 12/30\n",
            "1500/1500 [==============================] - 8s 5ms/step - loss: 0.0790 - accuracy: 0.9762 - val_loss: 0.1177 - val_accuracy: 0.9672\n",
            "Epoch 13/30\n",
            "1500/1500 [==============================] - 7s 5ms/step - loss: 0.0722 - accuracy: 0.9782 - val_loss: 0.1232 - val_accuracy: 0.9639\n",
            "Epoch 14/30\n",
            "1500/1500 [==============================] - 8s 5ms/step - loss: 0.0676 - accuracy: 0.9799 - val_loss: 0.1159 - val_accuracy: 0.9678\n",
            "Epoch 15/30\n",
            "1500/1500 [==============================] - 8s 5ms/step - loss: 0.0626 - accuracy: 0.9817 - val_loss: 0.1236 - val_accuracy: 0.9643\n",
            "Epoch 16/30\n",
            "1500/1500 [==============================] - 8s 5ms/step - loss: 0.0570 - accuracy: 0.9834 - val_loss: 0.1206 - val_accuracy: 0.9657\n",
            "Epoch 17/30\n",
            "1500/1500 [==============================] - 8s 5ms/step - loss: 0.0535 - accuracy: 0.9837 - val_loss: 0.1209 - val_accuracy: 0.9662\n",
            "Epoch 18/30\n",
            "1500/1500 [==============================] - 8s 5ms/step - loss: 0.0500 - accuracy: 0.9850 - val_loss: 0.1162 - val_accuracy: 0.9682\n",
            "Epoch 19/30\n",
            "1500/1500 [==============================] - 8s 5ms/step - loss: 0.0442 - accuracy: 0.9869 - val_loss: 0.1201 - val_accuracy: 0.9683\n",
            "Epoch 20/30\n",
            "1500/1500 [==============================] - 7s 5ms/step - loss: 0.0425 - accuracy: 0.9871 - val_loss: 0.1167 - val_accuracy: 0.9681\n",
            "Epoch 21/30\n",
            "1500/1500 [==============================] - 8s 5ms/step - loss: 0.0374 - accuracy: 0.9890 - val_loss: 0.1529 - val_accuracy: 0.9587\n",
            "Epoch 22/30\n",
            "1500/1500 [==============================] - 7s 5ms/step - loss: 0.0354 - accuracy: 0.9896 - val_loss: 0.1231 - val_accuracy: 0.9686\n",
            "Epoch 23/30\n",
            "1500/1500 [==============================] - 7s 5ms/step - loss: 0.0322 - accuracy: 0.9905 - val_loss: 0.1191 - val_accuracy: 0.9698\n",
            "Epoch 24/30\n",
            "1500/1500 [==============================] - 8s 5ms/step - loss: 0.0305 - accuracy: 0.9914 - val_loss: 0.1191 - val_accuracy: 0.9709\n",
            "Epoch 25/30\n",
            "1500/1500 [==============================] - 8s 5ms/step - loss: 0.0286 - accuracy: 0.9916 - val_loss: 0.1271 - val_accuracy: 0.9685\n",
            "Epoch 26/30\n",
            "1500/1500 [==============================] - 8s 5ms/step - loss: 0.0262 - accuracy: 0.9921 - val_loss: 0.1403 - val_accuracy: 0.9675\n",
            "Epoch 27/30\n",
            "1500/1500 [==============================] - 8s 5ms/step - loss: 0.0240 - accuracy: 0.9929 - val_loss: 0.1227 - val_accuracy: 0.9707\n",
            "Epoch 28/30\n",
            "1500/1500 [==============================] - 8s 5ms/step - loss: 0.0227 - accuracy: 0.9933 - val_loss: 0.1428 - val_accuracy: 0.9651\n",
            "Epoch 29/30\n",
            "1500/1500 [==============================] - 7s 5ms/step - loss: 0.0205 - accuracy: 0.9939 - val_loss: 0.1369 - val_accuracy: 0.9687\n",
            "Epoch 30/30\n",
            "1500/1500 [==============================] - 8s 5ms/step - loss: 0.0193 - accuracy: 0.9946 - val_loss: 0.1292 - val_accuracy: 0.9709\n"
          ]
        }
      ],
      "source": [
        "history = baseline.fit(train_images, train_labels, epochs=30,\n",
        "                     validation_split=0.2, callbacks=[cp_callback])"
      ]
    },
    {
      "cell_type": "code",
      "execution_count": null,
      "id": "480c70e2",
      "metadata": {
        "id": "480c70e2"
      },
      "outputs": [],
      "source": [
        "history_dict=history.history"
      ]
    },
    {
      "cell_type": "code",
      "execution_count": null,
      "id": "f9148bff",
      "metadata": {
        "id": "f9148bff",
        "outputId": "e83de6a7-1cee-47f0-9f57-752630252f79"
      },
      "outputs": [
        {
          "data": {
            "image/png": "[encoded data removed]",
            "text/plain": [
              "<Figure size 432x288 with 1 Axes>"
            ]
          },
          "metadata": {
            "needs_background": "light"
          },
          "output_type": "display_data"
        }
      ],
      "source": [
        "acc = history_dict['accuracy']\n",
        "val_acc = history_dict['val_accuracy']\n",
        "loss = history_dict['loss']\n",
        "val_loss = history_dict['val_loss']\n",
        "\n",
        "epochs = range(1, len(acc) + 1)\n",
        "\n",
        "plt.plot(epochs, loss, 'b', label='Training loss')\n",
        "\n",
        "plt.plot(epochs, val_loss, 'r', label='Validation loss')\n",
        "plt.title('Training and validation loss')\n",
        "plt.xlabel('Epochs')\n",
        "plt.ylabel('Loss')\n",
        "plt.legend()\n",
        "\n",
        "plt.show()"
      ]
    },
    {
      "cell_type": "code",
      "execution_count": null,
      "id": "4981fcfe",
      "metadata": {
        "scrolled": true,
        "id": "4981fcfe",
        "outputId": "ed7f0b40-6ebc-486c-86fa-c673afde659e"
      },
      "outputs": [
        {
          "data": {
            "image/png": "[encoded data removed]",
            "text/plain": [
              "<Figure size 432x288 with 1 Axes>"
            ]
          },
          "metadata": {
            "needs_background": "light"
          },
          "output_type": "display_data"
        }
      ],
      "source": [
        "plt.clf()\n",
        "plt.plot(epochs, acc, 'b', label='Training acc')\n",
        "plt.plot(epochs, val_acc, 'r', label='Validation acc')\n",
        "plt.title('Training and validation accuracy')\n",
        "plt.xlabel('Epochs')\n",
        "plt.ylabel('Accuracy')\n",
        "plt.legend()\n",
        "\n",
        "plt.show()"
      ]
    },
    {
      "cell_type": "code",
      "execution_count": null,
      "id": "1431107c",
      "metadata": {
        "id": "1431107c",
        "outputId": "2dc5ef81-4692-4bf3-c68c-f6de0db0ffc7"
      },
      "outputs": [
        {
          "name": "stdout",
          "output_type": "stream",
          "text": [
            "14\n"
          ]
        }
      ],
      "source": [
        "for i in range(20):\n",
        "    if (min(history.history['val_loss'])==history.history['val_loss'][i]):\n",
        "        print(i+1)\n",
        "for i in range(20):\n",
        "    if (max(history.history['val_accuracy'])==history.history['val_accuracy'][i]):\n",
        "        print(i+1)"
      ]
    },
    {
      "cell_type": "code",
      "execution_count": null,
      "id": "70cb6ea9",
      "metadata": {
        "id": "70cb6ea9"
      },
      "outputs": [],
      "source": [
        "for i in range(20):\n",
        "    if (min(history.history['loss'])==history.history['loss'][i]):\n",
        "        print(i+1)\n",
        "for i in range(20):\n",
        "    if (max(history.history['accuracy'])==history.history['accuracy'][i]):\n",
        "        print(i+1)"
      ]
    },
    {
      "cell_type": "code",
      "execution_count": null,
      "id": "48605be6",
      "metadata": {
        "id": "48605be6",
        "outputId": "9cb46d01-310d-4ee4-de9d-565230e57b0c"
      },
      "outputs": [
        {
          "data": {
            "text/plain": [
              "0.01927768625319004"
            ]
          },
          "execution_count": 162,
          "metadata": {},
          "output_type": "execute_result"
        }
      ],
      "source": [
        "min(history.history['loss'])"
      ]
    },
    {
      "cell_type": "code",
      "execution_count": null,
      "id": "856cf010",
      "metadata": {
        "id": "856cf010",
        "outputId": "157c3edd-7d34-4c8b-ec13-436a0dfbd2ef"
      },
      "outputs": [
        {
          "data": {
            "text/plain": [
              "<tensorflow.python.checkpoint.checkpoint.CheckpointLoadStatus at 0x2b3d2d5ebe0>"
            ]
          },
          "execution_count": 169,
          "metadata": {},
          "output_type": "execute_result"
        }
      ],
      "source": [
        "baseline.load_weights('C:/Users/user/Desktop/cpkt/cp--0014.ckpt')"
      ]
    },
    {
      "cell_type": "code",
      "execution_count": null,
      "id": "bbfc96aa",
      "metadata": {
        "id": "bbfc96aa",
        "outputId": "5ed7f7fc-9416-48f3-a2bd-0f5fb02ae3f0"
      },
      "outputs": [
        {
          "name": "stdout",
          "output_type": "stream",
          "text": [
            "You must install pydot (`pip install pydot`) and install graphviz (see instructions at https://graphviz.gitlab.io/download/) for plot_model to work.\n"
          ]
        }
      ],
      "source": [
        "\n",
        "tf.keras.utils.plot_model(baseline, \"C:/Users/user/Desktop/test_model.png\", show_shapes=True)"
      ]
    },
    {
      "cell_type": "code",
      "execution_count": null,
      "id": "ee32c4bb",
      "metadata": {
        "id": "ee32c4bb",
        "outputId": "04b38c11-4483-4707-e419-e85c052afe5e"
      },
      "outputs": [
        {
          "name": "stdout",
          "output_type": "stream",
          "text": [
            "313/313 - 1s - loss: 0.1133 - accuracy: 0.9660 - 906ms/epoch - 3ms/step\n"
          ]
        }
      ],
      "source": [
        "test_loss, test_acc = baseline.evaluate(test_images,  test_labels, verbose=2)"
      ]
    },
    {
      "cell_type": "code",
      "execution_count": null,
      "id": "0df65573",
      "metadata": {
        "id": "0df65573",
        "outputId": "14aa4c44-f73e-4089-9a26-16c467bdce2a"
      },
      "outputs": [
        {
          "name": "stdout",
          "output_type": "stream",
          "text": [
            "313/313 - 1s - loss: 0.1165 - accuracy: 0.9681 - 885ms/epoch - 3ms/step\n"
          ]
        }
      ],
      "source": [
        "test_loss, test_acc = baseline.evaluate(test_images,  test_labels, verbose=2)"
      ]
    },
    {
      "cell_type": "markdown",
      "id": "BvdtLwd3qY76",
      "metadata": {
        "id": "BvdtLwd3qY76"
      },
      "source": [
        "## 5. LeNet 모델"
      ]
    },
    {
      "cell_type": "code",
      "execution_count": null,
      "id": "ueNhg5wa9Ric",
      "metadata": {
        "id": "ueNhg5wa9Ric"
      },
      "outputs": [],
      "source": [
        "model_lenet5 = Sequential([\n",
        "    Conv2D(6, (5, 5), activation='tanh', input_shape=(28, 28, 1), padding=\"same\",name=\"C1\"),\n",
        "    AvgPool2D(2, 2, name=\"S2\"), \n",
        "    Conv2D(16, (5, 5), activation='tanh',name=\"C3\"),\n",
        "    AvgPool2D(2, 2, name=\"S4\"), \n",
        "    Conv2D(120, (5, 5), activation='tanh',name=\"C5\"), \n",
        "    Flatten(name=\"Flatten\"), \n",
        "    Dense(84, activation='tanh',name=\"F6\"), \n",
        "    Dense(10, activation='softmax',name=\"output\")\n",
        "],name=\"LeNet-5\")"
      ]
    },
    {
      "cell_type": "code",
      "execution_count": null,
      "id": "Am01iyYF9Ric",
      "metadata": {
        "id": "Am01iyYF9Ric"
      },
      "outputs": [],
      "source": [
        "model_lenet5_2 = Sequential([\n",
        "    Conv2D(16, (5, 5), activation='tanh',input_shape=(28, 28, 1)),\n",
        "    AvgPool2D(pool_size=(2, 2), strides=2), \n",
        "    Conv2D(120, (5, 5), activation='tanh'), \n",
        "    Flatten(), \n",
        "    Dense(84, activation='tanh'), \n",
        "    Dense(10, activation='softmax')\n",
        "])"
      ]
    },
    {
      "cell_type": "code",
      "execution_count": null,
      "id": "WrtrFFHG9Rid",
      "metadata": {
        "colab": {
          "base_uri": "https://localhost:8080/"
        },
        "id": "WrtrFFHG9Rid",
        "outputId": "5643a7b5-2cf1-459d-e13d-f6483db4e7b9"
      },
      "outputs": [
        {
          "name": "stdout",
          "output_type": "stream",
          "text": [
            "Model: \"LeNet-5\"\n",
            "_________________________________________________________________\n",
            " Layer (type)                Output Shape              Param #   \n",
            "=================================================================\n",
            " C1 (Conv2D)                 (None, 28, 28, 6)         156       \n",
            "                                                                 \n",
            " S2 (AveragePooling2D)       (None, 14, 14, 6)         0         \n",
            "                                                                 \n",
            " C3 (Conv2D)                 (None, 10, 10, 16)        2416      \n",
            "                                                                 \n",
            " S4 (AveragePooling2D)       (None, 5, 5, 16)          0         \n",
            "                                                                 \n",
            " C5 (Conv2D)                 (None, 1, 1, 120)         48120     \n",
            "                                                                 \n",
            " Flatten (Flatten)           (None, 120)               0         \n",
            "                                                                 \n",
            " F6 (Dense)                  (None, 84)                10164     \n",
            "                                                                 \n",
            " output (Dense)              (None, 10)                850       \n",
            "                                                                 \n",
            "=================================================================\n",
            "Total params: 61,706\n",
            "Trainable params: 61,706\n",
            "Non-trainable params: 0\n",
            "_________________________________________________________________\n"
          ]
        }
      ],
      "source": [
        "model_lenet5.summary()"
      ]
    },
    {
      "cell_type": "code",
      "execution_count": null,
      "id": "8Q95B-5g9Rid",
      "metadata": {
        "id": "8Q95B-5g9Rid"
      },
      "outputs": [],
      "source": [
        "model_lenet5.compile(optimizer='SGD', loss='MSE', metrics=['accuracy'])"
      ]
    },
    {
      "cell_type": "code",
      "execution_count": null,
      "id": "zoPc2TGV9Rie",
      "metadata": {
        "id": "zoPc2TGV9Rie"
      },
      "outputs": [],
      "source": [
        "model_lenet5.compile(optimizer='SGD', loss='sparse_categorical_crossentropy', metrics=['accuracy'])"
      ]
    },
    {
      "cell_type": "code",
      "execution_count": null,
      "id": "-OcQRPXM9Rif",
      "metadata": {
        "id": "-OcQRPXM9Rif"
      },
      "outputs": [],
      "source": [
        "model_lenet5.fit(train_images, train_labels, epochs=1)\n"
      ]
    },
    {
      "cell_type": "code",
      "execution_count": null,
      "id": "5dd3bdc9",
      "metadata": {
        "id": "5dd3bdc9",
        "outputId": "ad034b39-d2bd-488f-e140-addbecf7b39a"
      },
      "outputs": [
        {
          "name": "stdout",
          "output_type": "stream",
          "text": [
            "Epoch 1/30\n",
            "1875/1875 [==============================] - 13s 6ms/step - loss: 0.6450 - accuracy: 0.8335 - val_loss: 0.3010 - val_accuracy: 0.9121\n",
            "Epoch 2/30\n",
            "1875/1875 [==============================] - 10s 5ms/step - loss: 0.2685 - accuracy: 0.9214 - val_loss: 0.2130 - val_accuracy: 0.9363\n",
            "Epoch 3/30\n",
            "1875/1875 [==============================] - 11s 6ms/step - loss: 0.2018 - accuracy: 0.9402 - val_loss: 0.1626 - val_accuracy: 0.9523\n",
            "Epoch 4/30\n",
            "1875/1875 [==============================] - 11s 6ms/step - loss: 0.1589 - accuracy: 0.9523 - val_loss: 0.1309 - val_accuracy: 0.9629\n",
            "Epoch 5/30\n",
            "1875/1875 [==============================] - 12s 6ms/step - loss: 0.1304 - accuracy: 0.9609 - val_loss: 0.1092 - val_accuracy: 0.9673\n",
            "Epoch 6/30\n",
            "1875/1875 [==============================] - 12s 6ms/step - loss: 0.1101 - accuracy: 0.9676 - val_loss: 0.0943 - val_accuracy: 0.9725\n",
            "Epoch 7/30\n",
            "1875/1875 [==============================] - 11s 6ms/step - loss: 0.0954 - accuracy: 0.9716 - val_loss: 0.0832 - val_accuracy: 0.9749\n",
            "Epoch 8/30\n",
            "1875/1875 [==============================] - 11s 6ms/step - loss: 0.0844 - accuracy: 0.9752 - val_loss: 0.0775 - val_accuracy: 0.9757\n",
            "Epoch 9/30\n",
            "1875/1875 [==============================] - 10s 5ms/step - loss: 0.0756 - accuracy: 0.9779 - val_loss: 0.0671 - val_accuracy: 0.9780\n",
            "Epoch 10/30\n",
            "1875/1875 [==============================] - 10s 5ms/step - loss: 0.0688 - accuracy: 0.9799 - val_loss: 0.0623 - val_accuracy: 0.9808\n",
            "Epoch 11/30\n",
            "1875/1875 [==============================] - 10s 6ms/step - loss: 0.0631 - accuracy: 0.9812 - val_loss: 0.0621 - val_accuracy: 0.9812\n",
            "Epoch 12/30\n",
            "1875/1875 [==============================] - 11s 6ms/step - loss: 0.0582 - accuracy: 0.9827 - val_loss: 0.0564 - val_accuracy: 0.9824\n",
            "Epoch 13/30\n",
            "1875/1875 [==============================] - 10s 6ms/step - loss: 0.0541 - accuracy: 0.9840 - val_loss: 0.0535 - val_accuracy: 0.9830\n",
            "Epoch 14/30\n",
            "1875/1875 [==============================] - 11s 6ms/step - loss: 0.0509 - accuracy: 0.9852 - val_loss: 0.0506 - val_accuracy: 0.9837\n",
            "Epoch 15/30\n",
            "1875/1875 [==============================] - 11s 6ms/step - loss: 0.0478 - accuracy: 0.9862 - val_loss: 0.0487 - val_accuracy: 0.9837\n",
            "Epoch 16/30\n",
            "1875/1875 [==============================] - 11s 6ms/step - loss: 0.0452 - accuracy: 0.9865 - val_loss: 0.0458 - val_accuracy: 0.9844\n",
            "Epoch 17/30\n",
            "1875/1875 [==============================] - 10s 5ms/step - loss: 0.0427 - accuracy: 0.9877 - val_loss: 0.0465 - val_accuracy: 0.9854\n",
            "Epoch 18/30\n",
            "1875/1875 [==============================] - 11s 6ms/step - loss: 0.0406 - accuracy: 0.9883 - val_loss: 0.0439 - val_accuracy: 0.9856\n",
            "Epoch 19/30\n",
            "1875/1875 [==============================] - 10s 5ms/step - loss: 0.0385 - accuracy: 0.9888 - val_loss: 0.0428 - val_accuracy: 0.9865\n",
            "Epoch 20/30\n",
            "1875/1875 [==============================] - 11s 6ms/step - loss: 0.0369 - accuracy: 0.9893 - val_loss: 0.0430 - val_accuracy: 0.9860\n",
            "Epoch 21/30\n",
            "1875/1875 [==============================] - 10s 6ms/step - loss: 0.0352 - accuracy: 0.9899 - val_loss: 0.0388 - val_accuracy: 0.9871\n",
            "Epoch 22/30\n",
            "1875/1875 [==============================] - 11s 6ms/step - loss: 0.0341 - accuracy: 0.9896 - val_loss: 0.0408 - val_accuracy: 0.9864\n",
            "Epoch 23/30\n",
            "1875/1875 [==============================] - 10s 6ms/step - loss: 0.0325 - accuracy: 0.9907 - val_loss: 0.0386 - val_accuracy: 0.9878\n",
            "Epoch 24/30\n",
            "1875/1875 [==============================] - 11s 6ms/step - loss: 0.0311 - accuracy: 0.9912 - val_loss: 0.0392 - val_accuracy: 0.9872\n",
            "Epoch 25/30\n",
            "1875/1875 [==============================] - 11s 6ms/step - loss: 0.0301 - accuracy: 0.9912 - val_loss: 0.0376 - val_accuracy: 0.9875\n",
            "Epoch 26/30\n",
            "1875/1875 [==============================] - 10s 5ms/step - loss: 0.0289 - accuracy: 0.9917 - val_loss: 0.0371 - val_accuracy: 0.9880\n",
            "Epoch 27/30\n",
            "1875/1875 [==============================] - 10s 5ms/step - loss: 0.0277 - accuracy: 0.9922 - val_loss: 0.0376 - val_accuracy: 0.9872\n",
            "Epoch 28/30\n",
            "1875/1875 [==============================] - 10s 5ms/step - loss: 0.0267 - accuracy: 0.9924 - val_loss: 0.0359 - val_accuracy: 0.9893\n",
            "Epoch 29/30\n",
            "1875/1875 [==============================] - 9s 5ms/step - loss: 0.0258 - accuracy: 0.9926 - val_loss: 0.0353 - val_accuracy: 0.9884\n",
            "Epoch 30/30\n",
            "1875/1875 [==============================] - 11s 6ms/step - loss: 0.0249 - accuracy: 0.9931 - val_loss: 0.0347 - val_accuracy: 0.9884\n"
          ]
        }
      ],
      "source": [
        "history = model_lenet5.fit(train_images, train_labels, epochs=30,validation_data=(test_images,test_labels))"
      ]
    },
    {
      "cell_type": "code",
      "execution_count": null,
      "id": "P7-j8EFR9Rif",
      "metadata": {
        "id": "P7-j8EFR9Rif"
      },
      "outputs": [],
      "source": [
        "model_lenet5.evaluate(test_images,  test_labels, verbose=2)"
      ]
    },
    {
      "cell_type": "code",
      "execution_count": null,
      "id": "Yb-jJ5cn9Rig",
      "metadata": {
        "id": "Yb-jJ5cn9Rig"
      },
      "outputs": [],
      "source": [
        "checkpoint_path = 'C:/Users/user/Desktop/cpkt/cp--{epoch:04d}.ckpt'\n",
        "checkpoint_dir = os.path.dirname(checkpoint_path)"
      ]
    },
    {
      "cell_type": "code",
      "execution_count": null,
      "id": "46612215",
      "metadata": {
        "id": "46612215"
      },
      "outputs": [],
      "source": [
        "model_lenet5.load_weights(checkpoint_path)"
      ]
    },
    {
      "cell_type": "code",
      "execution_count": null,
      "id": "w5Lm_ATW9Rih",
      "metadata": {
        "id": "w5Lm_ATW9Rih"
      },
      "outputs": [],
      "source": [
        "cp_callback = tf.keras.callbacks.ModelCheckpoint(checkpoint_path,\n",
        "                                                 save_weights_only=True,\n",
        "                                                 verbose=0,\n",
        "                                                 save_freq='epoch',\n",
        "                                                 )  # 5번째 에포크마다 가중치를 저장"
      ]
    },
    {
      "cell_type": "code",
      "execution_count": null,
      "id": "mx_v2iJG9Rih",
      "metadata": {
        "id": "mx_v2iJG9Rih"
      },
      "outputs": [],
      "source": [
        "history = model_lenet5.fit(train_images, train_labels, epochs=10,\n",
        "                     validation_split=0.2, callbacks=[cp_callback])"
      ]
    },
    {
      "cell_type": "code",
      "execution_count": null,
      "id": "ASRWFvaw9Rih",
      "metadata": {
        "id": "ASRWFvaw9Rih"
      },
      "outputs": [],
      "source": [
        "history_dict = history.history"
      ]
    },
    {
      "cell_type": "code",
      "execution_count": null,
      "id": "5I_I0xpg9Rii",
      "metadata": {
        "id": "5I_I0xpg9Rii",
        "outputId": "60695b6a-fdc3-4aa3-e06c-933720d79a9e"
      },
      "outputs": [
        {
          "data": {
            "image/png": "[encoded data removed]",
            "text/plain": [
              "<Figure size 432x288 with 1 Axes>"
            ]
          },
          "metadata": {
            "needs_background": "light"
          },
          "output_type": "display_data"
        }
      ],
      "source": [
        "acc = history_dict['accuracy']\n",
        "val_acc = history_dict['val_accuracy']\n",
        "loss = history_dict['loss']\n",
        "val_loss = history_dict['val_loss']\n",
        "\n",
        "epochs = range(1, len(acc) + 1)\n",
        "\n",
        "# bo: 파란색 점\n",
        "plt.plot(epochs, loss, 'b', label='Training loss')\n",
        "# b : 파란 실선\n",
        "plt.plot(epochs, val_loss, 'r', label='Validation loss')\n",
        "plt.title('Training and validation loss')\n",
        "plt.xlabel('Epochs')\n",
        "plt.ylabel('Loss')\n",
        "plt.legend()\n",
        "\n",
        "plt.show()"
      ]
    },
    {
      "cell_type": "code",
      "execution_count": null,
      "id": "bxU-Me0z9Rij",
      "metadata": {
        "id": "bxU-Me0z9Rij",
        "outputId": "6e9229b0-34f2-4ca4-c5b9-21e1faadfd28"
      },
      "outputs": [
        {
          "data": {
            "image/png": "[encoded data removed]",
            "text/plain": [
              "<Figure size 432x288 with 1 Axes>"
            ]
          },
          "metadata": {
            "needs_background": "light"
          },
          "output_type": "display_data"
        }
      ],
      "source": [
        "plt.clf()\n",
        "plt.plot(epochs, acc, 'b', label='Training acc')\n",
        "plt.plot(epochs, val_acc, 'r', label='Validation acc')\n",
        "plt.title('Training and validation accuracy')\n",
        "plt.xlabel('Epochs')\n",
        "plt.ylabel('Accuracy')\n",
        "plt.legend()\n",
        "\n",
        "plt.show()"
      ]
    },
    {
      "cell_type": "code",
      "execution_count": null,
      "id": "ac89caff",
      "metadata": {
        "id": "ac89caff",
        "outputId": "6d0d720a-c361-4037-c082-7a41528acfad"
      },
      "outputs": [
        {
          "data": {
            "text/plain": [
              "0.9868000149726868"
            ]
          },
          "execution_count": 102,
          "metadata": {},
          "output_type": "execute_result"
        }
      ],
      "source": [
        "max(history.history['val_accuracy'])"
      ]
    },
    {
      "cell_type": "code",
      "execution_count": null,
      "id": "4895272e",
      "metadata": {
        "id": "4895272e",
        "outputId": "f7f1c734-b383-4ee4-bfa7-a70316681d48"
      },
      "outputs": [
        {
          "data": {
            "text/plain": [
              "0.04081031680107117"
            ]
          },
          "execution_count": 103,
          "metadata": {},
          "output_type": "execute_result"
        }
      ],
      "source": [
        "min(history.history['val_loss'])"
      ]
    },
    {
      "cell_type": "code",
      "execution_count": null,
      "id": "ce901041",
      "metadata": {
        "id": "ce901041",
        "outputId": "b7979fcb-c59b-4b23-e8be-46eded9c5173"
      },
      "outputs": [
        {
          "name": "stdout",
          "output_type": "stream",
          "text": [
            "19\n"
          ]
        }
      ],
      "source": [
        "for i in range(20):\n",
        "    if (max(history.history['val_accuracy'])==history.history['val_accuracy'][i]):\n",
        "        print(i+1)"
      ]
    },
    {
      "cell_type": "code",
      "execution_count": null,
      "id": "c1bb511c",
      "metadata": {
        "id": "c1bb511c",
        "outputId": "cb11fbdd-0588-4de9-ec78-6a8f46aa7cd6"
      },
      "outputs": [
        {
          "name": "stdout",
          "output_type": "stream",
          "text": [
            "20\n"
          ]
        }
      ],
      "source": [
        "for i in range(20):\n",
        "    if (min(history.history['val_loss'])==history.history['val_loss'][i]):\n",
        "        print(i+1)"
      ]
    },
    {
      "cell_type": "code",
      "execution_count": null,
      "id": "4b5393f2",
      "metadata": {
        "id": "4b5393f2"
      },
      "outputs": [],
      "source": [
        "\n",
        "print(history_dict['accuracy'][i])\n",
        "print(history_dict['val_accuracy'][i])\n",
        "print(history_dict['loss'][i])\n",
        "print(history_dict['val_loss'][i])"
      ]
    },
    {
      "cell_type": "code",
      "execution_count": null,
      "id": "NJEi-ehD9Rik",
      "metadata": {
        "id": "NJEi-ehD9Rik"
      },
      "outputs": [],
      "source": [
        "model_lenet5.evaluate(test_images,  test_labels, verbose=2)"
      ]
    },
    {
      "cell_type": "markdown",
      "id": "wqQkI1Ypqqh6",
      "metadata": {
        "id": "wqQkI1Ypqqh6"
      },
      "source": [
        "## 6. 하이퍼파라미터 최적화"
      ]
    },
    {
      "cell_type": "markdown",
      "id": "VTIsoQ76qvQz",
      "metadata": {
        "id": "VTIsoQ76qvQz"
      },
      "source": [
        " * 활성화 함수를 tanh에서 relu로 변경"
      ]
    },
    {
      "cell_type": "markdown",
      "id": "X72LWPnMrDN6",
      "metadata": {
        "id": "X72LWPnMrDN6"
      },
      "source": [
        " * 드롭아웃 적용"
      ]
    },
    {
      "cell_type": "markdown",
      "id": "73ckanVErFub",
      "metadata": {
        "id": "73ckanVErFub"
      },
      "source": [
        " * AVGpool -> MAXpool\n"
      ]
    },
    {
      "cell_type": "code",
      "execution_count": null,
      "id": "xb7H09RS9Rik",
      "metadata": {
        "id": "xb7H09RS9Rik"
      },
      "outputs": [],
      "source": [
        "model_lenet5_better = Sequential([\n",
        "    Conv2D(6, (5, 5), activation='relu', input_shape=(28, 28, 1), padding=\"same\"),\n",
        "    Dropout(0.2),\n",
        "    AvgPool2D(2, 2), \n",
        "    Conv2D(16, (5, 5), activation='relu'),\n",
        "    Dropout(0.2),\n",
        "    AvgPool2D(2, 2), \n",
        "    Conv2D(120, (5, 5), activation='relu'), \n",
        "    Flatten(), \n",
        "    Dense(84, activation='relu'), \n",
        "    Dense(10, activation='softmax')\n",
        "])"
      ]
    },
    {
      "cell_type": "code",
      "execution_count": null,
      "id": "3ykBXDJq9Rik",
      "metadata": {
        "id": "3ykBXDJq9Rik"
      },
      "outputs": [],
      "source": [
        "model_lenet5_better = Sequential([\n",
        "    Conv2D(6, (5, 5), activation='PReLU', input_shape=(28, 28, 1), padding=\"same\"),\n",
        "    Dropout(0.2),\n",
        "    AvgPool2D(2, 2), \n",
        "    Conv2D(16, (5, 5), activation='PReLU'),\n",
        "    Dropout(0.2),\n",
        "    AvgPool2D(2, 2), \n",
        "    Conv2D(120, (5, 5), activation='PReLU'), \n",
        "    Flatten(), \n",
        "    Dense(84, activation='PReLU'), \n",
        "    Dense(10, activation='softmax')\n",
        "])"
      ]
    },
    {
      "cell_type": "code",
      "execution_count": null,
      "id": "VDKqvjH59Ril",
      "metadata": {
        "id": "VDKqvjH59Ril"
      },
      "outputs": [],
      "source": [
        "model_lenet5_better = Sequential([\n",
        "    Conv2D(6, (5, 5), activation='ReLU', input_shape=(28, 28, 1), padding=\"same\"),\n",
        "    Dropout(0.2),\n",
        "    MaxPooling2D(2, 2), \n",
        "    Conv2D(16, (5, 5), activation='ReLU'),\n",
        "    Dropout(0.2),\n",
        "    MaxPooling2D(2, 2), \n",
        "    Conv2D(120, (5, 5), activation='ReLU'), \n",
        "    Flatten(), \n",
        "    Dense(84, activation='ReLU'), \n",
        "    Dense(10, activation='softmax')\n",
        "])"
      ]
    },
    {
      "cell_type": "markdown",
      "id": "F1-lbZcDq3mi",
      "metadata": {
        "id": "F1-lbZcDq3mi"
      },
      "source": [
        " * 최적화 함수를 SGD에서 adam으로 변경"
      ]
    },
    {
      "cell_type": "markdown",
      "id": "fC572sWzrWuN",
      "metadata": {
        "id": "fC572sWzrWuN"
      },
      "source": [
        " * 배치사이즈 32->64로 증가"
      ]
    },
    {
      "cell_type": "code",
      "execution_count": null,
      "id": "-LZW4qdL9Ril",
      "metadata": {
        "id": "-LZW4qdL9Ril"
      },
      "outputs": [],
      "source": [
        "model_lenet5_better.compile(optimizer='adam', loss='sparse_categorical_crossentropy', \n",
        "                     metrics=['accuracy'])"
      ]
    },
    {
      "cell_type": "code",
      "execution_count": null,
      "id": "D0u5yrNa9Ril",
      "metadata": {
        "id": "D0u5yrNa9Ril",
        "outputId": "20252438-3236-49ad-9813-b2b3578ae33b"
      },
      "outputs": [
        {
          "name": "stdout",
          "output_type": "stream",
          "text": [
            "Epoch 1/10\n",
            "750/750 [==============================] - 6s 8ms/step - loss: 0.3947 - accuracy: 0.8799 - val_loss: 0.1273 - val_accuracy: 0.9635\n",
            "Epoch 2/10\n",
            "750/750 [==============================] - 6s 8ms/step - loss: 0.1181 - accuracy: 0.9638 - val_loss: 0.0883 - val_accuracy: 0.9732\n",
            "Epoch 3/10\n",
            "750/750 [==============================] - 5s 7ms/step - loss: 0.0840 - accuracy: 0.9741 - val_loss: 0.0684 - val_accuracy: 0.9801\n",
            "Epoch 4/10\n",
            "750/750 [==============================] - 5s 7ms/step - loss: 0.0668 - accuracy: 0.9790 - val_loss: 0.0631 - val_accuracy: 0.9819\n",
            "Epoch 5/10\n",
            "750/750 [==============================] - 5s 7ms/step - loss: 0.0567 - accuracy: 0.9825 - val_loss: 0.0513 - val_accuracy: 0.9849\n",
            "Epoch 6/10\n",
            "750/750 [==============================] - 5s 6ms/step - loss: 0.0499 - accuracy: 0.9838 - val_loss: 0.0473 - val_accuracy: 0.9857\n",
            "Epoch 7/10\n",
            "750/750 [==============================] - 5s 6ms/step - loss: 0.0438 - accuracy: 0.9862 - val_loss: 0.0445 - val_accuracy: 0.9870\n",
            "Epoch 8/10\n",
            "750/750 [==============================] - 5s 7ms/step - loss: 0.0378 - accuracy: 0.9880 - val_loss: 0.0414 - val_accuracy: 0.9879\n",
            "Epoch 9/10\n",
            "750/750 [==============================] - 5s 7ms/step - loss: 0.0357 - accuracy: 0.9886 - val_loss: 0.0480 - val_accuracy: 0.9865\n",
            "Epoch 10/10\n",
            "750/750 [==============================] - 5s 7ms/step - loss: 0.0315 - accuracy: 0.9896 - val_loss: 0.0385 - val_accuracy: 0.9887\n"
          ]
        }
      ],
      "source": [
        "history = model_lenet5_better.fit(train_images, train_labels, epochs=10,\n",
        "                     validation_split=0.2, callbacks=[cp_callback], batch_size=64)"
      ]
    },
    {
      "cell_type": "code",
      "execution_count": null,
      "id": "Si9roZsc9Rim",
      "metadata": {
        "id": "Si9roZsc9Rim",
        "outputId": "64797f74-a341-4144-eae1-3acf11661cd9"
      },
      "outputs": [
        {
          "name": "stdout",
          "output_type": "stream",
          "text": [
            "Epoch 1/10\n",
            "750/750 [==============================] - 8s 9ms/step - loss: 0.3306 - accuracy: 0.9018 - val_loss: 0.1325 - val_accuracy: 0.9615\n",
            "Epoch 2/10\n",
            "750/750 [==============================] - 6s 9ms/step - loss: 0.1090 - accuracy: 0.9662 - val_loss: 0.0801 - val_accuracy: 0.9754\n",
            "Epoch 3/10\n",
            "750/750 [==============================] - 7s 9ms/step - loss: 0.0802 - accuracy: 0.9752 - val_loss: 0.0724 - val_accuracy: 0.9777\n",
            "Epoch 4/10\n",
            "750/750 [==============================] - 6s 9ms/step - loss: 0.0655 - accuracy: 0.9797 - val_loss: 0.0631 - val_accuracy: 0.9812\n",
            "Epoch 5/10\n",
            "750/750 [==============================] - 7s 9ms/step - loss: 0.0551 - accuracy: 0.9822 - val_loss: 0.0564 - val_accuracy: 0.9836\n",
            "Epoch 6/10\n",
            "750/750 [==============================] - 7s 9ms/step - loss: 0.0462 - accuracy: 0.9858 - val_loss: 0.0456 - val_accuracy: 0.9867\n",
            "Epoch 7/10\n",
            "750/750 [==============================] - 7s 9ms/step - loss: 0.0404 - accuracy: 0.9871 - val_loss: 0.0498 - val_accuracy: 0.9862\n",
            "Epoch 8/10\n",
            "750/750 [==============================] - 6s 8ms/step - loss: 0.0363 - accuracy: 0.9883 - val_loss: 0.0553 - val_accuracy: 0.9837\n",
            "Epoch 9/10\n",
            "750/750 [==============================] - 6s 8ms/step - loss: 0.0341 - accuracy: 0.9885 - val_loss: 0.0423 - val_accuracy: 0.9882\n",
            "Epoch 10/10\n",
            "750/750 [==============================] - 7s 9ms/step - loss: 0.0291 - accuracy: 0.9906 - val_loss: 0.0489 - val_accuracy: 0.9846\n"
          ]
        }
      ],
      "source": [
        "history = model_lenet5_better.fit(train_images, train_labels, epochs=10,\n",
        "                     validation_split=0.2, callbacks=[cp_callback], batch_size=64)"
      ]
    },
    {
      "cell_type": "code",
      "execution_count": null,
      "id": "FaAzbYfZ9Rim",
      "metadata": {
        "id": "FaAzbYfZ9Rim",
        "outputId": "376f3faf-cf6b-454b-9cea-589d6053d8a6"
      },
      "outputs": [
        {
          "name": "stdout",
          "output_type": "stream",
          "text": [
            "Epoch 1/10\n",
            "750/750 [==============================] - 5s 7ms/step - loss: 0.0285 - accuracy: 0.9911 - val_loss: 0.0413 - val_accuracy: 0.9879\n",
            "Epoch 2/10\n",
            "750/750 [==============================] - 5s 7ms/step - loss: 0.0263 - accuracy: 0.9914 - val_loss: 0.0386 - val_accuracy: 0.9896\n",
            "Epoch 3/10\n",
            "750/750 [==============================] - 5s 7ms/step - loss: 0.0240 - accuracy: 0.9917 - val_loss: 0.0495 - val_accuracy: 0.9862\n",
            "Epoch 4/10\n",
            "750/750 [==============================] - 5s 7ms/step - loss: 0.0242 - accuracy: 0.9919 - val_loss: 0.0419 - val_accuracy: 0.9885\n",
            "Epoch 5/10\n",
            "750/750 [==============================] - 5s 6ms/step - loss: 0.0212 - accuracy: 0.9928 - val_loss: 0.0460 - val_accuracy: 0.9887\n",
            "Epoch 6/10\n",
            "750/750 [==============================] - 5s 7ms/step - loss: 0.0209 - accuracy: 0.9929 - val_loss: 0.0440 - val_accuracy: 0.9886\n",
            "Epoch 7/10\n",
            "750/750 [==============================] - 5s 7ms/step - loss: 0.0193 - accuracy: 0.9936 - val_loss: 0.0385 - val_accuracy: 0.9902\n",
            "Epoch 8/10\n",
            "750/750 [==============================] - 5s 7ms/step - loss: 0.0170 - accuracy: 0.9941 - val_loss: 0.0427 - val_accuracy: 0.9897\n",
            "Epoch 9/10\n",
            "750/750 [==============================] - 5s 7ms/step - loss: 0.0171 - accuracy: 0.9945 - val_loss: 0.0416 - val_accuracy: 0.9898\n",
            "Epoch 10/10\n",
            "750/750 [==============================] - 5s 6ms/step - loss: 0.0177 - accuracy: 0.9941 - val_loss: 0.0402 - val_accuracy: 0.9889\n"
          ]
        }
      ],
      "source": [
        "history = model_lenet5_better.fit(train_images, train_labels, epochs=10,\n",
        "                     validation_split=0.2, callbacks=[cp_callback], batch_size=64)"
      ]
    },
    {
      "cell_type": "code",
      "execution_count": null,
      "id": "-q80dJnK9Rim",
      "metadata": {
        "id": "-q80dJnK9Rim"
      },
      "outputs": [],
      "source": [
        "history_dict = history.history"
      ]
    },
    {
      "cell_type": "code",
      "execution_count": null,
      "id": "RRG5QcsV9Rin",
      "metadata": {
        "id": "RRG5QcsV9Rin",
        "outputId": "0dee98e5-1f38-4ee4-af6c-1da0eb11a078"
      },
      "outputs": [
        {
          "data": {
            "image/png": "[encoded data removed]",
            "text/plain": [
              "<Figure size 432x288 with 1 Axes>"
            ]
          },
          "metadata": {
            "needs_background": "light"
          },
          "output_type": "display_data"
        }
      ],
      "source": [
        "acc = history_dict['accuracy']\n",
        "val_acc = history_dict['val_accuracy']\n",
        "loss = history_dict['loss']\n",
        "val_loss = history_dict['val_loss']\n",
        "\n",
        "epochs = range(1, len(acc) + 1)\n",
        "\n",
        "# bo: 파란색 점\n",
        "plt.plot(epochs, loss, 'bo', label='Training loss')\n",
        "# b : 파란 실선\n",
        "plt.plot(epochs, val_loss, 'b', label='Validation loss')\n",
        "plt.title('Training and validation loss')\n",
        "plt.xlabel('Epochs')\n",
        "plt.ylabel('Loss')\n",
        "plt.legend()\n",
        "\n",
        "plt.show()"
      ]
    },
    {
      "cell_type": "code",
      "execution_count": null,
      "id": "uGxPXLjB9Rin",
      "metadata": {
        "id": "uGxPXLjB9Rin",
        "outputId": "fbf7646b-4b0a-4dd0-8719-220c1f646ed5"
      },
      "outputs": [
        {
          "data": {
            "image/png": "[encoded data removed]",
            "text/plain": [
              "<Figure size 432x288 with 1 Axes>"
            ]
          },
          "metadata": {
            "needs_background": "light"
          },
          "output_type": "display_data"
        }
      ],
      "source": [
        "plt.clf()\n",
        "plt.plot(epochs, acc, 'bo', label='Training acc')\n",
        "plt.plot(epochs, val_acc, 'b', label='Validation acc')\n",
        "plt.title('Training and validation accuracy')\n",
        "plt.xlabel('Epochs')\n",
        "plt.ylabel('Accuracy')\n",
        "plt.legend()\n",
        "\n",
        "plt.show()"
      ]
    },
    {
      "cell_type": "code",
      "execution_count": null,
      "id": "SLe9Lbex9Rio",
      "metadata": {
        "id": "SLe9Lbex9Rio",
        "outputId": "b0c26fb1-3d4b-4b72-f01b-5670444495f4"
      },
      "outputs": [
        {
          "name": "stdout",
          "output_type": "stream",
          "text": [
            "313/313 - 1s - loss: 0.0414 - accuracy: 0.9897 - 1s/epoch - 3ms/step\n"
          ]
        },
        {
          "data": {
            "text/plain": [
              "[0.041358888149261475, 0.9897000193595886]"
            ]
          },
          "execution_count": 134,
          "metadata": {},
          "output_type": "execute_result"
        }
      ],
      "source": [
        "model_lenet5_better.evaluate(test_images,  test_labels, verbose=2)"
      ]
    },
    {
      "cell_type": "code",
      "execution_count": null,
      "id": "JOGt90Kn9Rio",
      "metadata": {
        "id": "JOGt90Kn9Rio"
      },
      "outputs": [],
      "source": [
        "model_lenet5_better2 = Sequential([\n",
        "    Conv2D(6, (5, 5), activation='relu', input_shape=(28, 28, 1), padding=\"same\"),\n",
        "    AvgPool2D(2, 2), \n",
        "    Conv2D(16, (5, 5), activation='relu'),\n",
        "    AvgPool2D(2, 2), \n",
        "    Conv2D(120, (5, 5), activation='relu'), \n",
        "    Flatten(), \n",
        "    Dense(84, activation='relu'), \n",
        "    Dense(10, activation='softmax')\n",
        "])"
      ]
    },
    {
      "cell_type": "markdown",
      "id": "gblkmwJgrgfE",
      "metadata": {
        "id": "gblkmwJgrgfE"
      },
      "source": [
        " * 앙상블 모델(평균) 적용\n"
      ]
    },
    {
      "cell_type": "code",
      "execution_count": null,
      "id": "v7tQgUCy9Rip",
      "metadata": {
        "id": "v7tQgUCy9Rip"
      },
      "outputs": [],
      "source": [
        "model_base = Sequential([\n",
        "    Flatten(input_shape=(28, 28,1)),\n",
        "    Dense(64, activation='relu'),\n",
        "    Dense(64, activation='relu'),\n",
        "    Dense(64, activation='relu'),\n",
        "    Dense(64, activation='relu'),\n",
        "    Dense(64, activation='relu'),\n",
        "    Dense(64, activation='relu'),\n",
        "    Dense(10, activation='softmax')\n",
        "])"
      ]
    },
    {
      "cell_type": "code",
      "execution_count": null,
      "id": "-xUuL6EQ9Rip",
      "metadata": {
        "id": "-xUuL6EQ9Rip"
      },
      "outputs": [],
      "source": [
        "model_lenet5 = Sequential([\n",
        "    Conv2D(6, (5, 5), activation='tanh', input_shape=(28, 28, 1), padding=\"same\"),\n",
        "    AvgPool2D(2, 2), \n",
        "    Conv2D(16, (5, 5), activation='tanh'),\n",
        "    AvgPool2D(2, 2), \n",
        "    Conv2D(120, (5, 5), activation='tanh'), \n",
        "    Flatten(), \n",
        "    Dense(84, activation='tanh'), \n",
        "    Dense(10, activation='softmax')\n",
        "])"
      ]
    },
    {
      "cell_type": "code",
      "execution_count": null,
      "id": "zNPiW_Fg9Riq",
      "metadata": {
        "id": "zNPiW_Fg9Riq"
      },
      "outputs": [],
      "source": [
        "x1=model_base.output"
      ]
    },
    {
      "cell_type": "code",
      "execution_count": null,
      "id": "RBE-E9rx9Riq",
      "metadata": {
        "id": "RBE-E9rx9Riq"
      },
      "outputs": [],
      "source": [
        "x2=model_lenet5.output"
      ]
    },
    {
      "cell_type": "code",
      "execution_count": null,
      "id": "NhTLesvJ9Riq",
      "metadata": {
        "id": "NhTLesvJ9Riq"
      },
      "outputs": [],
      "source": [
        "net=tf.keras.layers.Average()([x1,x2])"
      ]
    },
    {
      "cell_type": "code",
      "execution_count": null,
      "id": "STZ9pXrU9Riq",
      "metadata": {
        "id": "STZ9pXrU9Riq"
      },
      "outputs": [],
      "source": [
        "output=Dense(10, activation='softmax')(net)"
      ]
    },
    {
      "cell_type": "code",
      "execution_count": null,
      "id": "CgRbKrnx9Riq",
      "metadata": {
        "id": "CgRbKrnx9Riq"
      },
      "outputs": [],
      "source": [
        "inputs = tf.keras.layers.Input(shape=(28,28,1))"
      ]
    },
    {
      "cell_type": "code",
      "execution_count": null,
      "id": "2euRNPaB9Rir",
      "metadata": {
        "id": "2euRNPaB9Rir"
      },
      "outputs": [],
      "source": [
        "model_ensemble=tf.keras.models.Model([model_base.input,model_lenet5.input],net)"
      ]
    },
    {
      "cell_type": "code",
      "execution_count": null,
      "id": "Y4vtiJZL9Rir",
      "metadata": {
        "id": "Y4vtiJZL9Rir"
      },
      "outputs": [],
      "source": [
        "model_ensemble.compile(optimizer='adam',\n",
        "              loss='sparse_categorical_crossentropy',\n",
        "              metrics=['accuracy'])"
      ]
    },
    {
      "cell_type": "code",
      "execution_count": null,
      "id": "Pj5uc6eY9Rir",
      "metadata": {
        "colab": {
          "base_uri": "https://localhost:8080/"
        },
        "id": "Pj5uc6eY9Rir",
        "outputId": "989bd589-673d-4600-c11b-95751e21137c"
      },
      "outputs": [
        {
          "name": "stdout",
          "output_type": "stream",
          "text": [
            "Epoch 1/5\n",
            "1500/1500 [==============================] - 20s 6ms/step - loss: 0.3176 - accuracy: 0.9035 - val_loss: 0.1478 - val_accuracy: 0.9564\n",
            "Epoch 2/5\n",
            "1500/1500 [==============================] - 7s 5ms/step - loss: 0.1261 - accuracy: 0.9581 - val_loss: 0.1148 - val_accuracy: 0.9606\n",
            "Epoch 3/5\n",
            "1500/1500 [==============================] - 7s 5ms/step - loss: 0.0902 - accuracy: 0.9674 - val_loss: 0.1339 - val_accuracy: 0.9408\n",
            "Epoch 4/5\n",
            "1500/1500 [==============================] - 8s 5ms/step - loss: 0.0761 - accuracy: 0.9693 - val_loss: 0.0942 - val_accuracy: 0.9663\n",
            "Epoch 5/5\n",
            "1500/1500 [==============================] - 7s 5ms/step - loss: 0.0626 - accuracy: 0.9722 - val_loss: 0.1012 - val_accuracy: 0.9592\n"
          ]
        },
        {
          "data": {
            "text/plain": [
              "<keras.callbacks.History at 0x7f9c402f22d0>"
            ]
          },
          "execution_count": 13,
          "metadata": {},
          "output_type": "execute_result"
        }
      ],
      "source": [
        "model_ensemble.fit([train_images,train_images], train_labels, epochs=5,validation_split=0.2,)"
      ]
    },
    {
      "cell_type": "code",
      "execution_count": null,
      "id": "e7xap3mN9Ris",
      "metadata": {
        "id": "e7xap3mN9Ris"
      },
      "outputs": [],
      "source": [
        "model_lenet5_better = Sequential([\n",
        "    Conv2D(6, (5, 5), input_shape=(28, 28, 1), padding=\"same\"),\n",
        "    layers.BatchNormalization(),\n",
        "    layers.Activation(activation='relu'),\n",
        "    Dropout(0.2),\n",
        "    AvgPool2D(2, 2), \n",
        "    Conv2D(16, (5, 5)),\n",
        "    layers.BatchNormalization(),\n",
        "    layers.Activation(activation='relu'),\n",
        "    Dropout(0.2),\n",
        "    AvgPool2D(2, 2), \n",
        "    Conv2D(120, (5, 5)), \n",
        "    layers.BatchNormalization(),\n",
        "    layers.Activation(activation='relu'),\n",
        "    Flatten(), \n",
        "    Dense(84, activation='relu'), \n",
        "    Dense(10, activation='softmax')\n",
        "])"
      ]
    },
    {
      "cell_type": "code",
      "execution_count": null,
      "id": "F6AxIpgffWyZ",
      "metadata": {
        "id": "F6AxIpgffWyZ"
      },
      "outputs": [],
      "source": [
        "model_lenet5_better.compile(optimizer='adam', loss='sparse_categorical_crossentropy', \n",
        "                     metrics=['accuracy'])"
      ]
    },
    {
      "cell_type": "code",
      "execution_count": null,
      "id": "tT21ASV8fb84",
      "metadata": {
        "id": "tT21ASV8fb84"
      },
      "outputs": [],
      "source": [
        "model_lenet5_better.fit(train_images, train_labels, epochs=10,\n",
        "                     validation_split=0.2, batch_size=64)"
      ]
    },
    {
      "cell_type": "code",
      "execution_count": null,
      "id": "1V149wbbferw",
      "metadata": {
        "colab": {
          "base_uri": "https://localhost:8080/"
        },
        "id": "1V149wbbferw",
        "outputId": "1c34ee2f-d44f-49b7-b2d0-f7491e63d6a0"
      },
      "outputs": [
        {
          "name": "stdout",
          "output_type": "stream",
          "text": [
            "Epoch 1/10\n",
            "1500/1500 [==============================] - 18s 4ms/step - loss: 0.1589 - accuracy: 0.9519 - val_loss: 0.0501 - val_accuracy: 0.9843\n",
            "Epoch 2/10\n",
            "1500/1500 [==============================] - 7s 5ms/step - loss: 0.0754 - accuracy: 0.9761 - val_loss: 0.0491 - val_accuracy: 0.9840\n",
            "Epoch 3/10\n",
            "1500/1500 [==============================] - 7s 5ms/step - loss: 0.0604 - accuracy: 0.9811 - val_loss: 0.0474 - val_accuracy: 0.9848\n",
            "Epoch 4/10\n",
            "1500/1500 [==============================] - 7s 5ms/step - loss: 0.0503 - accuracy: 0.9839 - val_loss: 0.0489 - val_accuracy: 0.9846\n",
            "Epoch 5/10\n",
            "1500/1500 [==============================] - 7s 5ms/step - loss: 0.0468 - accuracy: 0.9848 - val_loss: 0.0384 - val_accuracy: 0.9884\n",
            "Epoch 6/10\n",
            "1500/1500 [==============================] - 7s 4ms/step - loss: 0.0395 - accuracy: 0.9874 - val_loss: 0.0325 - val_accuracy: 0.9899\n",
            "Epoch 7/10\n",
            "1500/1500 [==============================] - 7s 5ms/step - loss: 0.0347 - accuracy: 0.9885 - val_loss: 0.0322 - val_accuracy: 0.9901\n",
            "Epoch 8/10\n",
            "1500/1500 [==============================] - 7s 5ms/step - loss: 0.0338 - accuracy: 0.9895 - val_loss: 0.0353 - val_accuracy: 0.9902\n",
            "Epoch 9/10\n",
            "1500/1500 [==============================] - 6s 4ms/step - loss: 0.0315 - accuracy: 0.9895 - val_loss: 0.0333 - val_accuracy: 0.9915\n",
            "Epoch 10/10\n",
            "1500/1500 [==============================] - 6s 4ms/step - loss: 0.0287 - accuracy: 0.9905 - val_loss: 0.0301 - val_accuracy: 0.9916\n"
          ]
        },
        {
          "data": {
            "text/plain": [
              "<keras.callbacks.History at 0x7f3fa00e57d0>"
            ]
          },
          "execution_count": 5,
          "metadata": {},
          "output_type": "execute_result"
        }
      ],
      "source": [
        "model_lenet5_better.fit(train_images, train_labels, epochs=10,\n",
        "                     validation_split=0.2, batch_size=32)"
      ]
    },
    {
      "cell_type": "code",
      "execution_count": null,
      "id": "g6_YTXGinJ2o",
      "metadata": {
        "id": "g6_YTXGinJ2o"
      },
      "outputs": [],
      "source": [
        "model_lenet5_better.compile(optimizer='SGD', loss='sparse_categorical_crossentropy', \n",
        "                     metrics=['accuracy'])"
      ]
    },
    {
      "cell_type": "code",
      "execution_count": null,
      "id": "bV0EHnypnK14",
      "metadata": {
        "colab": {
          "base_uri": "https://localhost:8080/"
        },
        "id": "bV0EHnypnK14",
        "outputId": "2db09104-30c8-4794-e393-5f64dea96984"
      },
      "outputs": [
        {
          "name": "stdout",
          "output_type": "stream",
          "text": [
            "Epoch 1/10\n",
            "1500/1500 [==============================] - 7s 4ms/step - loss: 0.2913 - accuracy: 0.9240 - val_loss: 0.0811 - val_accuracy: 0.9778\n",
            "Epoch 2/10\n",
            "1500/1500 [==============================] - 7s 4ms/step - loss: 0.1095 - accuracy: 0.9682 - val_loss: 0.0608 - val_accuracy: 0.9818\n",
            "Epoch 3/10\n",
            "1500/1500 [==============================] - 6s 4ms/step - loss: 0.0826 - accuracy: 0.9750 - val_loss: 0.0494 - val_accuracy: 0.9853\n",
            "Epoch 4/10\n",
            "1500/1500 [==============================] - 7s 4ms/step - loss: 0.0710 - accuracy: 0.9781 - val_loss: 0.0420 - val_accuracy: 0.9870\n",
            "Epoch 5/10\n",
            "1500/1500 [==============================] - 6s 4ms/step - loss: 0.0598 - accuracy: 0.9812 - val_loss: 0.0401 - val_accuracy: 0.9878\n",
            "Epoch 6/10\n",
            "1500/1500 [==============================] - 7s 5ms/step - loss: 0.0542 - accuracy: 0.9841 - val_loss: 0.0355 - val_accuracy: 0.9890\n",
            "Epoch 7/10\n",
            "1500/1500 [==============================] - 6s 4ms/step - loss: 0.0515 - accuracy: 0.9841 - val_loss: 0.0377 - val_accuracy: 0.9883\n",
            "Epoch 8/10\n",
            "1500/1500 [==============================] - 6s 4ms/step - loss: 0.0462 - accuracy: 0.9857 - val_loss: 0.0317 - val_accuracy: 0.9904\n",
            "Epoch 9/10\n",
            "1500/1500 [==============================] - 6s 4ms/step - loss: 0.0429 - accuracy: 0.9867 - val_loss: 0.0334 - val_accuracy: 0.9899\n",
            "Epoch 10/10\n",
            "1500/1500 [==============================] - 6s 4ms/step - loss: 0.0407 - accuracy: 0.9874 - val_loss: 0.0305 - val_accuracy: 0.9908\n"
          ]
        },
        {
          "data": {
            "text/plain": [
              "<keras.callbacks.History at 0x7f3f1aa645d0>"
            ]
          },
          "execution_count": 17,
          "metadata": {},
          "output_type": "execute_result"
        }
      ],
      "source": [
        "model_lenet5_better.fit(train_images, train_labels, epochs=10,\n",
        "                     validation_split=0.2, batch_size=32)"
      ]
    },
    {
      "cell_type": "code",
      "execution_count": null,
      "id": "a3YELnl2f2NA",
      "metadata": {
        "id": "a3YELnl2f2NA"
      },
      "outputs": [],
      "source": [
        "model_lenet5_better = Sequential([\n",
        "    Conv2D(6, (5, 5), input_shape=(28, 28, 1), padding=\"same\"),\n",
        "    layers.BatchNormalization(),\n",
        "    layers.Activation(activation='relu'),\n",
        "    Dropout(0.2),\n",
        "    layers.MaxPool2D(2, 2), \n",
        "    Conv2D(16, (5, 5)),\n",
        "    layers.BatchNormalization(),\n",
        "    layers.Activation(activation='relu'),\n",
        "    Dropout(0.2),\n",
        "    layers.MaxPool2D(2, 2), \n",
        "    Conv2D(120, (5, 5)), \n",
        "    layers.BatchNormalization(),\n",
        "    layers.Activation(activation='relu'),\n",
        "    Flatten(), \n",
        "    Dense(84, activation='relu'), \n",
        "    Dense(10, activation='softmax')\n",
        "])"
      ]
    },
    {
      "cell_type": "code",
      "execution_count": null,
      "id": "d8vhzpAMgm_o",
      "metadata": {
        "id": "d8vhzpAMgm_o"
      },
      "outputs": [],
      "source": [
        "model_lenet5_better.compile(optimizer='adam', loss='sparse_categorical_crossentropy', \n",
        "                     metrics=['accuracy'])"
      ]
    },
    {
      "cell_type": "code",
      "execution_count": null,
      "id": "81iGbZssgp3b",
      "metadata": {
        "colab": {
          "base_uri": "https://localhost:8080/"
        },
        "id": "81iGbZssgp3b",
        "outputId": "bc8a13bc-c7c1-4fe4-d602-bbd5efeb6dcd"
      },
      "outputs": [
        {
          "name": "stdout",
          "output_type": "stream",
          "text": [
            "Epoch 1/10\n",
            "750/750 [==============================] - 5s 5ms/step - loss: 0.0138 - accuracy: 0.9954 - val_loss: 0.0813 - val_accuracy: 0.9768\n",
            "Epoch 2/10\n",
            "750/750 [==============================] - 4s 5ms/step - loss: 0.0131 - accuracy: 0.9957 - val_loss: 0.0844 - val_accuracy: 0.9758\n",
            "Epoch 3/10\n",
            "750/750 [==============================] - 4s 5ms/step - loss: 0.0126 - accuracy: 0.9957 - val_loss: 0.0769 - val_accuracy: 0.9776\n",
            "Epoch 4/10\n",
            "750/750 [==============================] - 4s 5ms/step - loss: 0.0107 - accuracy: 0.9967 - val_loss: 0.0762 - val_accuracy: 0.9790\n",
            "Epoch 5/10\n",
            "750/750 [==============================] - 4s 5ms/step - loss: 0.0140 - accuracy: 0.9952 - val_loss: 0.0783 - val_accuracy: 0.9782\n",
            "Epoch 6/10\n",
            "750/750 [==============================] - 4s 5ms/step - loss: 0.0116 - accuracy: 0.9959 - val_loss: 0.0597 - val_accuracy: 0.9827\n",
            "Epoch 7/10\n",
            "750/750 [==============================] - 4s 5ms/step - loss: 0.0117 - accuracy: 0.9958 - val_loss: 0.0710 - val_accuracy: 0.9802\n",
            "Epoch 8/10\n",
            "750/750 [==============================] - 4s 5ms/step - loss: 0.0132 - accuracy: 0.9953 - val_loss: 0.0589 - val_accuracy: 0.9826\n",
            "Epoch 9/10\n",
            "750/750 [==============================] - 4s 5ms/step - loss: 0.0096 - accuracy: 0.9967 - val_loss: 0.0679 - val_accuracy: 0.9814\n",
            "Epoch 10/10\n",
            "750/750 [==============================] - 4s 5ms/step - loss: 0.0106 - accuracy: 0.9964 - val_loss: 0.0963 - val_accuracy: 0.9740\n"
          ]
        },
        {
          "data": {
            "text/plain": [
              "<keras.callbacks.History at 0x7f3f1a292110>"
            ]
          },
          "execution_count": 14,
          "metadata": {},
          "output_type": "execute_result"
        }
      ],
      "source": [
        "model_lenet5_better.fit(train_images, train_labels, epochs=10,\n",
        "                     validation_split=0.2, batch_size=64)"
      ]
    }
  ],
  "metadata": {
    "accelerator": "GPU",
    "colab": {
      "collapsed_sections": [
        "wqQkI1Ypqqh6"
      ],
      "provenance": [],
      "toc_visible": true
    },
    "kernelspec": {
      "display_name": "Python 3 (ipykernel)",
      "language": "python",
      "name": "python3"
    },
    "language_info": {
      "codemirror_mode": {
        "name": "ipython",
        "version": 3
      },
      "file_extension": ".py",
      "mimetype": "text/x-python",
      "name": "python",
      "nbconvert_exporter": "python",
      "pygments_lexer": "ipython3",
      "version": "3.9.12"
    }
  },
  "nbformat": 4,
  "nbformat_minor": 5
}